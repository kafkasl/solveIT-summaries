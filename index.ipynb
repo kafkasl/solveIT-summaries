{
 "cells": [
  {
   "cell_type": "code",
   "execution_count": 1,
   "metadata": {},
   "outputs": [],
   "source": [
    "import httpx\n",
    "from fasthtml.common import show\n",
    "from bs4 import BeautifulSoup\n",
    "from fasthtml.common import L, first, last\n",
    "from fastcore.xtras import globtastic\n",
    "from fastcore.parallel import parallel"
   ]
  },
  {
   "cell_type": "code",
   "execution_count": 2,
   "metadata": {},
   "outputs": [],
   "source": [
    "# I just copied this from devTools -> dashboard request -> copy as cURL. You will have to replace the session_ cookie with your own.\n",
    "\n",
    "headers = {\n",
    "    'accept': 'text/html,application/xhtml+xml,application/xml;q=0.9,image/avif,image/webp,image/apng,*/*;q=0.8,application/signed-exchange;v=b3;q=0.7',\n",
    "    'accept-language': 'en-US,en;q=0.9,es;q=0.8,ca;q=0.7,zh-TW;q=0.6,zh;q=0.5',\n",
    "    'user-agent': 'Mozilla/5.0 (Macintosh; Intel Mac OS X 10_15_7) AppleWebKit/537.36 (KHTML, like Gecko) Chrome/131.0.0.0 Safari/537.36',\n",
    "    'sec-ch-ua': '\"Google Chrome\";v=\"131\", \"Chromium\";v=\"131\", \"Not_A Brand\";v=\"24\"'\n",
    "}\n",
    "\n",
    "r = httpx.get('https://solveit.fast.ai/dashboard', \n",
    "              headers=headers,\n",
    "              cookies={'session_': SESSION_COOKIE},\n",
    "              follow_redirects=True)\n"
   ]
  },
  {
   "cell_type": "code",
   "execution_count": 3,
   "metadata": {},
   "outputs": [],
   "source": [
    "soup = BeautifulSoup(r.text, 'html.parser')\n"
   ]
  },
  {
   "cell_type": "code",
   "execution_count": 4,
   "metadata": {},
   "outputs": [
    {
     "data": {
      "text/plain": [
       "(#12) ['https://youtu.be/4x9wtrDOXac','https://youtube.com/live/X_m7qz5LteY?feature=share','https://youtube.com/live/kEGQSamwpuU?feature=share','https://youtube.com/live/HO1gmouGEVI?feature=share','https://youtube.com/live/w_YltetZc3M?feature=share','https://youtube.com/live/83tbt5lEUgI?feature=share','https://youtube.com/live/Dnu39sQCV3k?feature=share','https://youtube.com/live/lA-KvHeFJkI?feature=share','https://youtube.com/live/ObliDyAdRx8?feature=share','https://youtube.com/live/5ZPFC_Xnz8A?feature=share','https://youtube.com/live/AvItkLCD7v8?feature=share','https://youtube.com/live/rr-59PLkIdY?feature=share']"
      ]
     },
     "execution_count": 4,
     "metadata": {},
     "output_type": "execute_result"
    }
   ],
   "source": [
    "links = L(soup.select('ul.uk-list li a[href]')).map(lambda x: x['href']).filter(lambda x:'youtu' in x)\n",
    "links"
   ]
  },
  {
   "cell_type": "markdown",
   "metadata": {},
   "source": [
    "## Download videos\n"
   ]
  },
  {
   "cell_type": "code",
   "execution_count": 5,
   "metadata": {},
   "outputs": [],
   "source": [
    "import yt_dlp\n",
    "\n",
    "def download_video(url, output_path='%(title)s.%(ext)s'):\n",
    "    ydl_opts = {\n",
    "        'format': 'best',  # best quality\n",
    "        'outtmpl': output_path,  # output template\n",
    "        'quiet': False,  # show progress\n",
    "    }\n",
    "    \n",
    "    with yt_dlp.YoutubeDL(ydl_opts) as ydl:\n",
    "        ydl.download([url])\n"
   ]
  },
  {
   "cell_type": "code",
   "execution_count": 6,
   "metadata": {},
   "outputs": [],
   "source": [
    "\n",
    "# Download a single video\n",
    "# download_video('https://youtu.be/4x9wtrDOXac')\n"
   ]
  },
  {
   "cell_type": "code",
   "execution_count": 7,
   "metadata": {},
   "outputs": [],
   "source": [
    "def download_audio(url, output_path='./audio/%(title)s.%(ext)s'):\n",
    "    ydl_opts = {\n",
    "        'format': 'bestaudio/best',\n",
    "        'postprocessors': [{\n",
    "            'key': 'FFmpegExtractAudio',\n",
    "            'preferredcodec': 'mp3',\n",
    "            'preferredquality': '192',\n",
    "        }],\n",
    "        'outtmpl': output_path,\n",
    "        'quiet': False,\n",
    "    }\n",
    "    \n",
    "    with yt_dlp.YoutubeDL(ydl_opts) as ydl:\n",
    "        ydl.download([url])\n"
   ]
  },
  {
   "cell_type": "code",
   "execution_count": 8,
   "metadata": {},
   "outputs": [],
   "source": [
    "# download_audio('https://youtu.be/4x9wtrDOXac')\n"
   ]
  },
  {
   "cell_type": "code",
   "execution_count": null,
   "metadata": {},
   "outputs": [
    {
     "name": "stdout",
     "output_type": "stream",
     "text": [
      "[youtube] Extracting URL: https://youtube.com/live/HO1gmouGEVI?feature=share\n",
      "[youtube] HO1gmouGEVI: Downloading webpage\n",
      "[youtube] Extracting URL: https://youtube.com/live/AvItkLCD7v8?feature=share\n",
      "[youtube] Extracting URL: https://youtube.com/live/83tbt5lEUgI?feature=share\n",
      "[youtube] AvItkLCD7v8: Downloading webpage\n",
      "[youtube] 83tbt5lEUgI: Downloading webpage\n",
      "[youtube] Extracting URL: https://youtube.com/live/X_m7qz5LteY?feature=share\n",
      "[youtube] Extracting URL: https://youtube.com/live/5ZPFC_Xnz8A?feature=share\n",
      "[youtube] X_m7qz5LteY: Downloading webpage\n",
      "[youtube] Extracting URL: https://youtube.com/live/Dnu39sQCV3k?feature=share\n",
      "[youtube] Extracting URL: https://youtube.com/live/kEGQSamwpuU?feature=share\n",
      "[youtube] 5ZPFC_Xnz8A: Downloading webpage\n",
      "[youtube] kEGQSamwpuU: Downloading webpage\n",
      "[youtube] Dnu39sQCV3k: Downloading webpage\n",
      "[youtube] Extracting URL: https://youtu.be/4x9wtrDOXac\n",
      "[youtube] 4x9wtrDOXac: Downloading webpage\n",
      "[youtube] Extracting URL: https://youtube.com/live/lA-KvHeFJkI?feature=share\n",
      "[youtube] Extracting URL: https://youtube.com/live/w_YltetZc3M?feature=share\n",
      "[youtube] Extracting URL: https://youtube.com/live/ObliDyAdRx8?feature=share\n",
      "[youtube] lA-KvHeFJkI: Downloading webpage\n",
      "[youtube] w_YltetZc3M: Downloading webpage\n",
      "[youtube] ObliDyAdRx8: Downloading webpage\n",
      "[youtube] Extracting URL: https://youtube.com/live/rr-59PLkIdY?feature=share\n",
      "[youtube] rr-59PLkIdY: Downloading webpage\n",
      "[youtube] ObliDyAdRx8: Downloading tv client config\n",
      "[youtube] lA-KvHeFJkI: Downloading tv client config\n",
      "[youtube] AvItkLCD7v8: Downloading tv client config\n",
      "[youtube] X_m7qz5LteY: Downloading tv client config\n",
      "[youtube] Dnu39sQCV3k: Downloading tv client config\n",
      "[youtube] ObliDyAdRx8: Downloading player 1080ef44\n",
      "[youtube] HO1gmouGEVI: Downloading tv client config\n",
      "[youtube] w_YltetZc3M: Downloading tv client config\n",
      "[youtube] rr-59PLkIdY: Downloading tv client config\n",
      "[youtube] 5ZPFC_Xnz8A: Downloading tv client config\n",
      "[youtube] 83tbt5lEUgI: Downloading tv client config\n",
      "[youtube] 4x9wtrDOXac: Downloading tv client config\n",
      "[youtube] kEGQSamwpuU: Downloading tv client config\n",
      "[youtube] lA-KvHeFJkI: Downloading player 1080ef44\n",
      "[youtube] AvItkLCD7v8: Downloading player 1080ef44\n",
      "[youtube] X_m7qz5LteY: Downloading player 1080ef44\n",
      "[youtube] Dnu39sQCV3k: Downloading player 1080ef44\n",
      "[youtube] HO1gmouGEVI: Downloading player 1080ef44\n",
      "[youtube] rr-59PLkIdY: Downloading player 77a95d1d\n",
      "[youtube] kEGQSamwpuU: Downloading player 1080ef44\n",
      "[youtube] 5ZPFC_Xnz8A: Downloading player 77a95d1d\n",
      "[youtube] 83tbt5lEUgI: Downloading player 1080ef44\n",
      "[youtube] 4x9wtrDOXac: Downloading player 1080ef44\n",
      "[youtube] w_YltetZc3M: Downloading player 1080ef44\n",
      "[youtube] ObliDyAdRx8: Downloading tv player API JSON\n",
      "[youtube] ObliDyAdRx8: Downloading ios player API JSON\n",
      "[youtube] AvItkLCD7v8: Downloading tv player API JSON\n",
      "[youtube] lA-KvHeFJkI: Downloading tv player API JSON\n",
      "[youtube] AvItkLCD7v8: Downloading ios player API JSON\n",
      "[youtube] 4x9wtrDOXac: Downloading tv player API JSON\n",
      "[youtube] w_YltetZc3M: Downloading tv player API JSON\n",
      "[youtube] 83tbt5lEUgI: Downloading tv player API JSON\n",
      "[youtube] X_m7qz5LteY: Downloading tv player API JSON\n",
      "[youtube] lA-KvHeFJkI: Downloading ios player API JSON\n",
      "[youtube] 5ZPFC_Xnz8A: Downloading tv player API JSON\n",
      "[youtube] Dnu39sQCV3k: Downloading tv player API JSON\n",
      "[youtube] 4x9wtrDOXac: Downloading ios player API JSON\n",
      "[youtube] rr-59PLkIdY: Downloading tv player API JSON\n",
      "[youtube] w_YltetZc3M: Downloading ios player API JSON\n",
      "[youtube] 83tbt5lEUgI: Downloading ios player API JSON\n",
      "[youtube] kEGQSamwpuU: Downloading tv player API JSON\n",
      "[youtube] X_m7qz5LteY: Downloading ios player API JSON\n",
      "[youtube] HO1gmouGEVI: Downloading tv player API JSON\n",
      "[youtube] 5ZPFC_Xnz8A: Downloading ios player API JSON\n",
      "[youtube] Dnu39sQCV3k: Downloading ios player API JSON\n",
      "[youtube] rr-59PLkIdY: Downloading ios player API JSON\n",
      "[youtube] ObliDyAdRx8: Downloading m3u8 information\n",
      "[youtube] kEGQSamwpuU: Downloading ios player API JSON\n",
      "[youtube] HO1gmouGEVI: Downloading ios player API JSON\n",
      "[info] ObliDyAdRx8: Downloading 1 format(s): 251\n",
      "[download] Destination: ./audio/SIWC Lesson 9.webm\n",
      "[download]   0.7% of   72.69MiB at    9.81MiB/s ETA 00:07[youtube] AvItkLCD7v8: Downloading m3u8 information\n",
      "[download]   1.4% of   72.69MiB at   11.63MiB/s ETA 00:06[youtube] lA-KvHeFJkI: Downloading m3u8 information\n",
      "[download]   2.8% of   72.69MiB at   11.59MiB/s ETA 00:06[info] AvItkLCD7v8: Downloading 1 format(s): 251\n",
      "[youtube] 4x9wtrDOXac: Downloading m3u8 information\n",
      "[youtube] 83tbt5lEUgI: Downloading m3u8 information\n",
      "[youtube] w_YltetZc3M: Downloading m3u8 information\n",
      "[download]   5.5% of   72.69MiB at   12.79MiB/s ETA 00:05[info] lA-KvHeFJkI: Downloading 1 format(s): 251\n",
      "[youtube] Dnu39sQCV3k: Downloading m3u8 information\n",
      "[download] Destination: ./audio/SIWC Lesson 11.webm\n",
      "[download]   0.0% of   75.40MiB at    5.51MiB/s ETA 00:13[youtube] X_m7qz5LteY: Downloading m3u8 information\n",
      "[download]   0.2% of   75.40MiB at    2.47MiB/s ETA 00:30[youtube] kEGQSamwpuU: Downloading m3u8 information\n",
      "[info] 4x9wtrDOXac: Downloading 1 format(s): 251\n",
      "[download]   0.3% of   75.40MiB at    2.71MiB/s ETA 00:27[info] 83tbt5lEUgI: Downloading 1 format(s): 251\n",
      "[download] Destination: ./audio/SIWC Lesson 8.webm\n",
      "[download]   0.0% of   69.39MiB at 1019.92KiB/s ETA 01:09[info] w_YltetZc3M: Downloading 1 format(s): 251\n",
      "[download]   0.0% of   69.39MiB at    1.95MiB/s ETA 00:35[youtube] HO1gmouGEVI: Downloading m3u8 information\n",
      "[youtube] rr-59PLkIdY: Downloading m3u8 information\n",
      "[youtube] 5ZPFC_Xnz8A: Downloading m3u8 information\n",
      "[download]   0.2% of   69.39MiB at    1.89MiB/s ETA 00:36[info] Dnu39sQCV3k: Downloading 1 format(s): 251\n",
      "[info] kEGQSamwpuU: Downloading 1 format(s): 251\n",
      "[download]   0.4% of   69.39MiB at    2.20MiB/s ETA 00:31[info] X_m7qz5LteY: Downloading 1 format(s): 251\n",
      "[download] Destination: ./audio/SIWC - lesson1.webm\n",
      "[download]   0.2% of   67.94MiB at    1.69MiB/s ETA 00:40[info] rr-59PLkIdY: Downloading 1 format(s): 251\n",
      "[download] Destination: ./audio/SIWC Lesson 5.webm\n",
      "[download]   0.1% of   86.56MiB at   10.57MiB/s ETA 00:08[info] HO1gmouGEVI: Downloading 1 format(s): 251\n",
      "[download] Destination: ./audio/SIWC Lesson 6.webm\n",
      "[download]   0.0% of   77.72MiB at    2.22MiB/s ETA 00:35[info] 5ZPFC_Xnz8A: Downloading 1 format(s): 251\n",
      "[download]   0.1% of   77.72MiB at    1.93MiB/s ETA 00:40[download] Destination: ./audio/SIWC Lesson 7.webm\n",
      "[download]   0.1% of   68.66MiB at    4.12MiB/s ETA 00:16  [download] Destination: ./audio/SIWC Lesson 3.webm\n",
      "[download]   0.1% of  102.23MiB at    1.30MiB/s ETA 01:18  [download] Destination: ./audio/SIWC Lesson 2.webm\n",
      "[download]   0.4% of   68.14MiB at    1.03MiB/s ETA 01:06  [download] Destination: ./audio/SIWC Lesson 12.webm\n",
      "[download]   0.0% of   65.33MiB at    2.60MiB/s ETA 00:25[download] Destination: ./audio/SIWC Lesson 4.webm\n",
      "[download]   0.1% of  104.51MiB at    1.80MiB/s ETA 00:58[download] Destination: ./audio/SIWC Lesson 10.webm\n",
      "[download]  38.3% of   86.56MiB at    3.49MiB/s ETA 00:15  "
     ]
    }
   ],
   "source": [
    "from fastcore.parallel import parallel\n",
    "\n",
    "# parallel(download_audio, links)"
   ]
  },
  {
   "cell_type": "markdown",
   "metadata": {},
   "source": [
    "## Diarize audio\n",
    "\n",
    "\n",
    "Unfortunately, HTTP GET method has a payload size limit, so providing the file direclty is not possible. It's possible to work around uploading it somewhere which is publicly accessible and then use a URL. Instead, we'll manually use macWhisper for now.\n",
    "\n",
    "[See issue](https://github.com/replicate/replicate-python/issues/157)"
   ]
  },
  {
   "cell_type": "code",
   "execution_count": 11,
   "metadata": {},
   "outputs": [
    {
     "ename": "ReplicateError",
     "evalue": "ReplicateError Details:\nstatus: 413",
     "output_type": "error",
     "traceback": [
      "\u001b[0;31m---------------------------------------------------------------------------\u001b[0m",
      "\u001b[0;31mReplicateError\u001b[0m                            Traceback (most recent call last)",
      "Cell \u001b[0;32mIn[11], line 18\u001b[0m\n\u001b[1;32m     15\u001b[0m     \u001b[38;5;28;01mreturn\u001b[39;00m output\n\u001b[1;32m     17\u001b[0m \u001b[38;5;66;03m# Run diarization\u001b[39;00m\n\u001b[0;32m---> 18\u001b[0m result \u001b[38;5;241m=\u001b[39m \u001b[43mdiarize_with_replicate\u001b[49m\u001b[43m(\u001b[49m\n\u001b[1;32m     19\u001b[0m \u001b[43m    \u001b[49m\u001b[38;5;124;43m\"\u001b[39;49m\u001b[38;5;124;43mSIWC - lesson1.mp3\u001b[39;49m\u001b[38;5;124;43m\"\u001b[39;49m\u001b[43m,\u001b[49m\u001b[43m \u001b[49m\n\u001b[1;32m     20\u001b[0m \u001b[43m    \u001b[49m\u001b[43mprompt\u001b[49m\u001b[38;5;241;43m=\u001b[39;49m\u001b[38;5;124;43m\"\u001b[39;49m\u001b[38;5;124;43mSolveIT lesson, coding tutorial\u001b[39;49m\u001b[38;5;124;43m\"\u001b[39;49m\u001b[43m,\u001b[49m\n\u001b[1;32m     21\u001b[0m \u001b[43m    \u001b[49m\u001b[43mnum_speakers\u001b[49m\u001b[38;5;241;43m=\u001b[39;49m\u001b[38;5;241;43m2\u001b[39;49m\n\u001b[1;32m     22\u001b[0m \u001b[43m)\u001b[49m\n\u001b[1;32m     23\u001b[0m \u001b[38;5;28mprint\u001b[39m(result)\n",
      "Cell \u001b[0;32mIn[11], line 11\u001b[0m, in \u001b[0;36mdiarize_with_replicate\u001b[0;34m(filepath, num_speakers, language, prompt)\u001b[0m\n\u001b[1;32m      3\u001b[0m \u001b[38;5;28;01mdef\u001b[39;00m\u001b[38;5;250m \u001b[39m\u001b[38;5;21mdiarize_with_replicate\u001b[39m(filepath, num_speakers\u001b[38;5;241m=\u001b[39m\u001b[38;5;241m2\u001b[39m, language\u001b[38;5;241m=\u001b[39m\u001b[38;5;124m\"\u001b[39m\u001b[38;5;124men\u001b[39m\u001b[38;5;124m\"\u001b[39m, prompt\u001b[38;5;241m=\u001b[39m\u001b[38;5;124m\"\u001b[39m\u001b[38;5;124m\"\u001b[39m):\n\u001b[1;32m      4\u001b[0m     \u001b[38;5;28minput\u001b[39m \u001b[38;5;241m=\u001b[39m {\n\u001b[1;32m      5\u001b[0m         \u001b[38;5;124m\"\u001b[39m\u001b[38;5;124mfile\u001b[39m\u001b[38;5;124m\"\u001b[39m: \u001b[38;5;28mopen\u001b[39m(filepath, \u001b[38;5;124m\"\u001b[39m\u001b[38;5;124mrb\u001b[39m\u001b[38;5;124m\"\u001b[39m),\n\u001b[1;32m      6\u001b[0m         \u001b[38;5;124m\"\u001b[39m\u001b[38;5;124mprompt\u001b[39m\u001b[38;5;124m\"\u001b[39m: prompt,\n\u001b[1;32m      7\u001b[0m         \u001b[38;5;124m\"\u001b[39m\u001b[38;5;124mlanguage\u001b[39m\u001b[38;5;124m\"\u001b[39m: language,\n\u001b[1;32m      8\u001b[0m         \u001b[38;5;124m\"\u001b[39m\u001b[38;5;124mnum_speakers\u001b[39m\u001b[38;5;124m\"\u001b[39m: num_speakers\n\u001b[1;32m      9\u001b[0m     }\n\u001b[0;32m---> 11\u001b[0m     output \u001b[38;5;241m=\u001b[39m \u001b[43mreplicate\u001b[49m\u001b[38;5;241;43m.\u001b[39;49m\u001b[43mrun\u001b[49m\u001b[43m(\u001b[49m\n\u001b[1;32m     12\u001b[0m \u001b[43m        \u001b[49m\u001b[38;5;124;43m\"\u001b[39;49m\u001b[38;5;124;43mthomasmol/whisper-diarization:cbd15da9f839c5f932742f86ce7def3a03c22e2b4171d42823e83e314547003f\u001b[39;49m\u001b[38;5;124;43m\"\u001b[39;49m\u001b[43m,\u001b[49m\n\u001b[1;32m     13\u001b[0m \u001b[43m        \u001b[49m\u001b[38;5;28;43minput\u001b[39;49m\u001b[38;5;241;43m=\u001b[39;49m\u001b[38;5;28;43minput\u001b[39;49m\n\u001b[1;32m     14\u001b[0m \u001b[43m    \u001b[49m\u001b[43m)\u001b[49m\n\u001b[1;32m     15\u001b[0m     \u001b[38;5;28;01mreturn\u001b[39;00m output\n",
      "File \u001b[0;32m~/go/github.com/kafkasl/solveit-summaries/venv/lib/python3.12/site-packages/replicate/client.py:175\u001b[0m, in \u001b[0;36mClient.run\u001b[0;34m(self, ref, input, use_file_output, **params)\u001b[0m\n\u001b[1;32m    163\u001b[0m \u001b[38;5;28;01mdef\u001b[39;00m\u001b[38;5;250m \u001b[39m\u001b[38;5;21mrun\u001b[39m(\n\u001b[1;32m    164\u001b[0m     \u001b[38;5;28mself\u001b[39m,\n\u001b[1;32m    165\u001b[0m     ref: \u001b[38;5;28mstr\u001b[39m,\n\u001b[0;32m   (...)\u001b[0m\n\u001b[1;32m    169\u001b[0m     \u001b[38;5;241m*\u001b[39m\u001b[38;5;241m*\u001b[39mparams: Unpack[\u001b[38;5;124m\"\u001b[39m\u001b[38;5;124mPredictions.CreatePredictionParams\u001b[39m\u001b[38;5;124m\"\u001b[39m],\n\u001b[1;32m    170\u001b[0m ) \u001b[38;5;241m-\u001b[39m\u001b[38;5;241m>\u001b[39m Union[Any, Iterator[Any]]:  \u001b[38;5;66;03m# noqa: ANN401\u001b[39;00m\n\u001b[1;32m    171\u001b[0m \u001b[38;5;250m    \u001b[39m\u001b[38;5;124;03m\"\"\"\u001b[39;00m\n\u001b[1;32m    172\u001b[0m \u001b[38;5;124;03m    Run a model and wait for its output.\u001b[39;00m\n\u001b[1;32m    173\u001b[0m \u001b[38;5;124;03m    \"\"\"\u001b[39;00m\n\u001b[0;32m--> 175\u001b[0m     \u001b[38;5;28;01mreturn\u001b[39;00m \u001b[43mrun\u001b[49m\u001b[43m(\u001b[49m\u001b[38;5;28;43mself\u001b[39;49m\u001b[43m,\u001b[49m\u001b[43m \u001b[49m\u001b[43mref\u001b[49m\u001b[43m,\u001b[49m\u001b[43m \u001b[49m\u001b[38;5;28;43minput\u001b[39;49m\u001b[43m,\u001b[49m\u001b[43m \u001b[49m\u001b[43muse_file_output\u001b[49m\u001b[38;5;241;43m=\u001b[39;49m\u001b[43muse_file_output\u001b[49m\u001b[43m,\u001b[49m\u001b[43m \u001b[49m\u001b[38;5;241;43m*\u001b[39;49m\u001b[38;5;241;43m*\u001b[39;49m\u001b[43mparams\u001b[49m\u001b[43m)\u001b[49m\n",
      "File \u001b[0;32m~/go/github.com/kafkasl/solveit-summaries/venv/lib/python3.12/site-packages/replicate/run.py:46\u001b[0m, in \u001b[0;36mrun\u001b[0;34m(client, ref, input, use_file_output, **params)\u001b[0m\n\u001b[1;32m     43\u001b[0m version, owner, name, version_id \u001b[38;5;241m=\u001b[39m identifier\u001b[38;5;241m.\u001b[39m_resolve(ref)\n\u001b[1;32m     45\u001b[0m \u001b[38;5;28;01mif\u001b[39;00m version_id \u001b[38;5;129;01mis\u001b[39;00m \u001b[38;5;129;01mnot\u001b[39;00m \u001b[38;5;28;01mNone\u001b[39;00m:\n\u001b[0;32m---> 46\u001b[0m     prediction \u001b[38;5;241m=\u001b[39m \u001b[43mclient\u001b[49m\u001b[38;5;241;43m.\u001b[39;49m\u001b[43mpredictions\u001b[49m\u001b[38;5;241;43m.\u001b[39;49m\u001b[43mcreate\u001b[49m\u001b[43m(\u001b[49m\n\u001b[1;32m     47\u001b[0m \u001b[43m        \u001b[49m\u001b[43mversion\u001b[49m\u001b[38;5;241;43m=\u001b[39;49m\u001b[43mversion_id\u001b[49m\u001b[43m,\u001b[49m\u001b[43m \u001b[49m\u001b[38;5;28;43minput\u001b[39;49m\u001b[38;5;241;43m=\u001b[39;49m\u001b[38;5;28;43minput\u001b[39;49m\u001b[43m \u001b[49m\u001b[38;5;129;43;01mor\u001b[39;49;00m\u001b[43m \u001b[49m\u001b[43m{\u001b[49m\u001b[43m}\u001b[49m\u001b[43m,\u001b[49m\u001b[43m \u001b[49m\u001b[38;5;241;43m*\u001b[39;49m\u001b[38;5;241;43m*\u001b[39;49m\u001b[43mparams\u001b[49m\n\u001b[1;32m     48\u001b[0m \u001b[43m    \u001b[49m\u001b[43m)\u001b[49m\n\u001b[1;32m     49\u001b[0m \u001b[38;5;28;01melif\u001b[39;00m owner \u001b[38;5;129;01mand\u001b[39;00m name:\n\u001b[1;32m     50\u001b[0m     prediction \u001b[38;5;241m=\u001b[39m client\u001b[38;5;241m.\u001b[39mmodels\u001b[38;5;241m.\u001b[39mpredictions\u001b[38;5;241m.\u001b[39mcreate(\n\u001b[1;32m     51\u001b[0m         model\u001b[38;5;241m=\u001b[39m(owner, name), \u001b[38;5;28minput\u001b[39m\u001b[38;5;241m=\u001b[39m\u001b[38;5;28minput\u001b[39m \u001b[38;5;129;01mor\u001b[39;00m {}, \u001b[38;5;241m*\u001b[39m\u001b[38;5;241m*\u001b[39mparams\n\u001b[1;32m     52\u001b[0m     )\n",
      "File \u001b[0;32m~/go/github.com/kafkasl/solveit-summaries/venv/lib/python3.12/site-packages/replicate/prediction.py:485\u001b[0m, in \u001b[0;36mPredictions.create\u001b[0;34m(self, model, version, deployment, input, *args, **params)\u001b[0m\n\u001b[1;32m    478\u001b[0m     \u001b[38;5;28;01mreturn\u001b[39;00m Deployments(\u001b[38;5;28mself\u001b[39m\u001b[38;5;241m.\u001b[39m_client)\u001b[38;5;241m.\u001b[39mpredictions\u001b[38;5;241m.\u001b[39mcreate(\n\u001b[1;32m    479\u001b[0m         deployment\u001b[38;5;241m=\u001b[39mdeployment,\n\u001b[1;32m    480\u001b[0m         \u001b[38;5;28minput\u001b[39m\u001b[38;5;241m=\u001b[39m\u001b[38;5;28minput\u001b[39m \u001b[38;5;129;01mor\u001b[39;00m {},\n\u001b[1;32m    481\u001b[0m         \u001b[38;5;241m*\u001b[39m\u001b[38;5;241m*\u001b[39mparams,\n\u001b[1;32m    482\u001b[0m     )\n\u001b[1;32m    484\u001b[0m \u001b[38;5;28;01mif\u001b[39;00m \u001b[38;5;28minput\u001b[39m \u001b[38;5;129;01mis\u001b[39;00m \u001b[38;5;129;01mnot\u001b[39;00m \u001b[38;5;28;01mNone\u001b[39;00m:\n\u001b[0;32m--> 485\u001b[0m     \u001b[38;5;28minput\u001b[39m \u001b[38;5;241m=\u001b[39m \u001b[43mencode_json\u001b[49m\u001b[43m(\u001b[49m\n\u001b[1;32m    486\u001b[0m \u001b[43m        \u001b[49m\u001b[38;5;28;43minput\u001b[39;49m\u001b[43m,\u001b[49m\n\u001b[1;32m    487\u001b[0m \u001b[43m        \u001b[49m\u001b[43mclient\u001b[49m\u001b[38;5;241;43m=\u001b[39;49m\u001b[38;5;28;43mself\u001b[39;49m\u001b[38;5;241;43m.\u001b[39;49m\u001b[43m_client\u001b[49m\u001b[43m,\u001b[49m\n\u001b[1;32m    488\u001b[0m \u001b[43m        \u001b[49m\u001b[43mfile_encoding_strategy\u001b[49m\u001b[38;5;241;43m=\u001b[39;49m\u001b[43mfile_encoding_strategy\u001b[49m\u001b[43m,\u001b[49m\n\u001b[1;32m    489\u001b[0m \u001b[43m    \u001b[49m\u001b[43m)\u001b[49m\n\u001b[1;32m    491\u001b[0m body \u001b[38;5;241m=\u001b[39m _create_prediction_body(\n\u001b[1;32m    492\u001b[0m     version,\n\u001b[1;32m    493\u001b[0m     \u001b[38;5;28minput\u001b[39m,\n\u001b[1;32m    494\u001b[0m     \u001b[38;5;241m*\u001b[39m\u001b[38;5;241m*\u001b[39mparams,\n\u001b[1;32m    495\u001b[0m )\n\u001b[1;32m    496\u001b[0m extras \u001b[38;5;241m=\u001b[39m _create_prediction_request_params(wait\u001b[38;5;241m=\u001b[39mwait)\n",
      "File \u001b[0;32m~/go/github.com/kafkasl/solveit-summaries/venv/lib/python3.12/site-packages/replicate/helpers.py:36\u001b[0m, in \u001b[0;36mencode_json\u001b[0;34m(obj, client, file_encoding_strategy)\u001b[0m\n\u001b[1;32m     30\u001b[0m \u001b[38;5;250m\u001b[39m\u001b[38;5;124;03m\"\"\"\u001b[39;00m\n\u001b[1;32m     31\u001b[0m \u001b[38;5;124;03mReturn a JSON-compatible version of the object.\u001b[39;00m\n\u001b[1;32m     32\u001b[0m \u001b[38;5;124;03m\"\"\"\u001b[39;00m\n\u001b[1;32m     34\u001b[0m \u001b[38;5;28;01mif\u001b[39;00m \u001b[38;5;28misinstance\u001b[39m(obj, \u001b[38;5;28mdict\u001b[39m):\n\u001b[1;32m     35\u001b[0m     \u001b[38;5;28;01mreturn\u001b[39;00m {\n\u001b[0;32m---> 36\u001b[0m         key: \u001b[43mencode_json\u001b[49m\u001b[43m(\u001b[49m\u001b[43mvalue\u001b[49m\u001b[43m,\u001b[49m\u001b[43m \u001b[49m\u001b[43mclient\u001b[49m\u001b[43m,\u001b[49m\u001b[43m \u001b[49m\u001b[43mfile_encoding_strategy\u001b[49m\u001b[43m)\u001b[49m\n\u001b[1;32m     37\u001b[0m         \u001b[38;5;28;01mfor\u001b[39;00m key, value \u001b[38;5;129;01min\u001b[39;00m obj\u001b[38;5;241m.\u001b[39mitems()\n\u001b[1;32m     38\u001b[0m     }\n\u001b[1;32m     39\u001b[0m \u001b[38;5;28;01mif\u001b[39;00m \u001b[38;5;28misinstance\u001b[39m(obj, (\u001b[38;5;28mlist\u001b[39m, \u001b[38;5;28mset\u001b[39m, \u001b[38;5;28mfrozenset\u001b[39m, GeneratorType, \u001b[38;5;28mtuple\u001b[39m)):\n\u001b[1;32m     40\u001b[0m     \u001b[38;5;28;01mreturn\u001b[39;00m [encode_json(value, client, file_encoding_strategy) \u001b[38;5;28;01mfor\u001b[39;00m value \u001b[38;5;129;01min\u001b[39;00m obj]\n",
      "File \u001b[0;32m~/go/github.com/kafkasl/solveit-summaries/venv/lib/python3.12/site-packages/replicate/helpers.py:48\u001b[0m, in \u001b[0;36mencode_json\u001b[0;34m(obj, client, file_encoding_strategy)\u001b[0m\n\u001b[1;32m     46\u001b[0m         \u001b[38;5;28;01mreturn\u001b[39;00m base64_encode_file(obj)\n\u001b[1;32m     47\u001b[0m     \u001b[38;5;28;01melse\u001b[39;00m:\n\u001b[0;32m---> 48\u001b[0m         \u001b[38;5;28;01mreturn\u001b[39;00m \u001b[43mclient\u001b[49m\u001b[38;5;241;43m.\u001b[39;49m\u001b[43mfiles\u001b[49m\u001b[38;5;241;43m.\u001b[39;49m\u001b[43mcreate\u001b[49m\u001b[43m(\u001b[49m\u001b[43mobj\u001b[49m\u001b[43m)\u001b[49m\u001b[38;5;241m.\u001b[39murls[\u001b[38;5;124m\"\u001b[39m\u001b[38;5;124mget\u001b[39m\u001b[38;5;124m\"\u001b[39m]\n\u001b[1;32m     49\u001b[0m \u001b[38;5;28;01mif\u001b[39;00m HAS_NUMPY:\n\u001b[1;32m     50\u001b[0m     \u001b[38;5;28;01mif\u001b[39;00m \u001b[38;5;28misinstance\u001b[39m(obj, np\u001b[38;5;241m.\u001b[39minteger):  \u001b[38;5;66;03m# type: ignore\u001b[39;00m\n",
      "File \u001b[0;32m~/go/github.com/kafkasl/solveit-summaries/venv/lib/python3.12/site-packages/replicate/file.py:83\u001b[0m, in \u001b[0;36mFiles.create\u001b[0;34m(self, file, **params)\u001b[0m\n\u001b[1;32m     78\u001b[0m \u001b[38;5;28;01melif\u001b[39;00m \u001b[38;5;129;01mnot\u001b[39;00m \u001b[38;5;28misinstance\u001b[39m(file, (io\u001b[38;5;241m.\u001b[39mIOBase, BinaryIO)):\n\u001b[1;32m     79\u001b[0m     \u001b[38;5;28;01mraise\u001b[39;00m \u001b[38;5;167;01mValueError\u001b[39;00m(\n\u001b[1;32m     80\u001b[0m         \u001b[38;5;124m\"\u001b[39m\u001b[38;5;124mUnsupported file type. Must be a file path or file-like object.\u001b[39m\u001b[38;5;124m\"\u001b[39m\n\u001b[1;32m     81\u001b[0m     )\n\u001b[0;32m---> 83\u001b[0m resp \u001b[38;5;241m=\u001b[39m \u001b[38;5;28;43mself\u001b[39;49m\u001b[38;5;241;43m.\u001b[39;49m\u001b[43m_client\u001b[49m\u001b[38;5;241;43m.\u001b[39;49m\u001b[43m_request\u001b[49m\u001b[43m(\u001b[49m\n\u001b[1;32m     84\u001b[0m \u001b[43m    \u001b[49m\u001b[38;5;124;43m\"\u001b[39;49m\u001b[38;5;124;43mPOST\u001b[39;49m\u001b[38;5;124;43m\"\u001b[39;49m\u001b[43m,\u001b[49m\u001b[43m \u001b[49m\u001b[38;5;124;43m\"\u001b[39;49m\u001b[38;5;124;43m/v1/files\u001b[39;49m\u001b[38;5;124;43m\"\u001b[39;49m\u001b[43m,\u001b[49m\u001b[43m \u001b[49m\u001b[43mtimeout\u001b[49m\u001b[38;5;241;43m=\u001b[39;49m\u001b[38;5;28;43;01mNone\u001b[39;49;00m\u001b[43m,\u001b[49m\u001b[43m \u001b[49m\u001b[38;5;241;43m*\u001b[39;49m\u001b[38;5;241;43m*\u001b[39;49m\u001b[43m_create_file_params\u001b[49m\u001b[43m(\u001b[49m\u001b[43mfile\u001b[49m\u001b[43m,\u001b[49m\u001b[43m \u001b[49m\u001b[38;5;241;43m*\u001b[39;49m\u001b[38;5;241;43m*\u001b[39;49m\u001b[43mparams\u001b[49m\u001b[43m)\u001b[49m\n\u001b[1;32m     85\u001b[0m \u001b[43m\u001b[49m\u001b[43m)\u001b[49m\n\u001b[1;32m     87\u001b[0m \u001b[38;5;28;01mreturn\u001b[39;00m _json_to_file(resp\u001b[38;5;241m.\u001b[39mjson())\n",
      "File \u001b[0;32m~/go/github.com/kafkasl/solveit-summaries/venv/lib/python3.12/site-packages/replicate/client.py:89\u001b[0m, in \u001b[0;36mClient._request\u001b[0;34m(self, method, path, **kwargs)\u001b[0m\n\u001b[1;32m     87\u001b[0m \u001b[38;5;28;01mdef\u001b[39;00m\u001b[38;5;250m \u001b[39m\u001b[38;5;21m_request\u001b[39m(\u001b[38;5;28mself\u001b[39m, method: \u001b[38;5;28mstr\u001b[39m, path: \u001b[38;5;28mstr\u001b[39m, \u001b[38;5;241m*\u001b[39m\u001b[38;5;241m*\u001b[39mkwargs) \u001b[38;5;241m-\u001b[39m\u001b[38;5;241m>\u001b[39m httpx\u001b[38;5;241m.\u001b[39mResponse:\n\u001b[1;32m     88\u001b[0m     resp \u001b[38;5;241m=\u001b[39m \u001b[38;5;28mself\u001b[39m\u001b[38;5;241m.\u001b[39m_client\u001b[38;5;241m.\u001b[39mrequest(method, path, \u001b[38;5;241m*\u001b[39m\u001b[38;5;241m*\u001b[39mkwargs)\n\u001b[0;32m---> 89\u001b[0m     \u001b[43m_raise_for_status\u001b[49m\u001b[43m(\u001b[49m\u001b[43mresp\u001b[49m\u001b[43m)\u001b[49m\n\u001b[1;32m     91\u001b[0m     \u001b[38;5;28;01mreturn\u001b[39;00m resp\n",
      "File \u001b[0;32m~/go/github.com/kafkasl/solveit-summaries/venv/lib/python3.12/site-packages/replicate/client.py:393\u001b[0m, in \u001b[0;36m_raise_for_status\u001b[0;34m(resp)\u001b[0m\n\u001b[1;32m    391\u001b[0m \u001b[38;5;28;01mdef\u001b[39;00m\u001b[38;5;250m \u001b[39m\u001b[38;5;21m_raise_for_status\u001b[39m(resp: httpx\u001b[38;5;241m.\u001b[39mResponse) \u001b[38;5;241m-\u001b[39m\u001b[38;5;241m>\u001b[39m \u001b[38;5;28;01mNone\u001b[39;00m:\n\u001b[1;32m    392\u001b[0m     \u001b[38;5;28;01mif\u001b[39;00m \u001b[38;5;241m400\u001b[39m \u001b[38;5;241m<\u001b[39m\u001b[38;5;241m=\u001b[39m resp\u001b[38;5;241m.\u001b[39mstatus_code \u001b[38;5;241m<\u001b[39m \u001b[38;5;241m600\u001b[39m:\n\u001b[0;32m--> 393\u001b[0m         \u001b[38;5;28;01mraise\u001b[39;00m ReplicateError\u001b[38;5;241m.\u001b[39mfrom_response(resp)\n",
      "\u001b[0;31mReplicateError\u001b[0m: ReplicateError Details:\nstatus: 413"
     ]
    }
   ],
   "source": [
    "import replicate\n",
    "\n",
    "def diarize_with_replicate(filepath, num_speakers=2, language=\"en\", prompt=\"\"):\n",
    "    input = {\n",
    "        \"file\": open(filepath, \"rb\"),\n",
    "        \"prompt\": prompt,\n",
    "        \"language\": language,\n",
    "        \"num_speakers\": num_speakers\n",
    "    }\n",
    "    \n",
    "    output = replicate.run(\n",
    "        \"thomasmol/whisper-diarization:cbd15da9f839c5f932742f86ce7def3a03c22e2b4171d42823e83e314547003f\",\n",
    "        input=input\n",
    "    )\n",
    "    return output\n",
    "\n",
    "# Run diarization\n",
    "result = diarize_with_replicate(\n",
    "    \"SIWC - lesson1.mp3\", \n",
    "    prompt=\"SolveIT lesson, coding tutorial\",\n",
    "    num_speakers=2\n",
    ")\n",
    "print(result)"
   ]
  },
  {
   "cell_type": "code",
   "execution_count": 12,
   "metadata": {},
   "outputs": [],
   "source": [
    "# this will also fail as it uses Replicate behind the scenes\n",
    "import httpx\n",
    "\n",
    "def diarize_audio(filepath, instruction=\"I want to diarize this audio file of a SolveIT lesson in English with Jeremy Howard and Johnathan Whitaker speaking.\"):\n",
    "    url = \"https://web-production-1ac0.up.railway.app/diarize/chat\"\n",
    "    headers = {\n",
    "        \"accept\": \"application/json\",\n",
    "        \"Authorization\": f\"Bearer {TOKEN}\"\n",
    "    }\n",
    "    \n",
    "    files = {\n",
    "        \"file\": (\"audio.mp3\", open(filepath, \"rb\")),\n",
    "        \"instruction\": (None, instruction)\n",
    "    }\n",
    "    \n",
    "    r = httpx.post(url, headers=headers, files=files)\n",
    "    return r.json()\n",
    "\n",
    "# Assuming the first downloaded file is named by its title\n",
    "# Get the first downloaded file path\n",
    "# first_file = \"SIWC - lesson1.mp3\"  # adjust this to your actual filename\n",
    "# result = diarize_audio(first_file)\n",
    "# print(result)"
   ]
  },
  {
   "cell_type": "markdown",
   "metadata": {},
   "source": [
    "## Produce titles"
   ]
  },
  {
   "cell_type": "code",
   "execution_count": 35,
   "metadata": {},
   "outputs": [
    {
     "data": {
      "text/plain": [
       "'Before we kind of have our official start, I just wanted to do a couple of quick logistics things, w'"
      ]
     },
     "execution_count": 35,
     "metadata": {},
     "output_type": "execute_result"
    }
   ],
   "source": [
    "t1 = open('./transcripts/SIWC - lesson1.txt').read()\n",
    "t1[:100]"
   ]
  },
  {
   "cell_type": "code",
   "execution_count": 5,
   "metadata": {},
   "outputs": [
    {
     "data": {
      "text/plain": [
       "'claude-3-5-sonnet-20241022'"
      ]
     },
     "execution_count": 5,
     "metadata": {},
     "output_type": "execute_result"
    }
   ],
   "source": [
    "from claudette import Chat, Client, models\n",
    "model = models[1]\n",
    "model"
   ]
  },
  {
   "cell_type": "code",
   "execution_count": 6,
   "metadata": {},
   "outputs": [
    {
     "data": {
      "text/markdown": [
       "Here's a title and summary for this lesson:\n",
       "\n",
       "Title: \"Introduction to Dialogue Engineering with Python and Advent of Code\"\n",
       "\n",
       "Summary:\n",
       "This first lesson introduces the SolveIT platform and dialogue engineering approach to problem solving with AI and code. Key topics covered:\n",
       "\n",
       "1. Platform Overview:\n",
       "- Introduction to SolveIT, a custom educational platform combining code, notes, and AI assistance\n",
       "- Explanation of dialogue-based problem solving approach\n",
       "- Basic platform features and keyboard shortcuts\n",
       "\n",
       "2. Problem Solving Framework:\n",
       "- Introduction to Advent of Code programming challenges\n",
       "- Demonstration of systematic problem solving using George Pólya's methodology\n",
       "- Emphasis on small, verifiable steps and data visualization\n",
       "\n",
       "3. Practical Example:\n",
       "- Walked through solving Advent of Code 2023 Day 1 Part A\n",
       "- Demonstrated iterative development process\n",
       "- Showed how to combine Python coding with AI assistance\n",
       "\n",
       "4. Best Practices:\n",
       "- Importance of checking documentation\n",
       "- Value of testing code in small increments\n",
       "- How to effectively combine human coding skills with AI assistance\n",
       "\n",
       "The lesson concluded with homework assignments to complete Day 1 Part B and optionally Day 2, while emphasizing the importance of following the demonstrated methodical approach to problem solving.\n",
       "\n",
       "<details>\n",
       "\n",
       "- id: `msg_01PF65eQeFYeQw7Aek9eUY6J`\n",
       "- content: `[{'citations': None, 'text': 'Here\\'s a title and summary for this lesson:\\n\\nTitle: \"Introduction to Dialogue Engineering with Python and Advent of Code\"\\n\\nSummary:\\nThis first lesson introduces the SolveIT platform and dialogue engineering approach to problem solving with AI and code. Key topics covered:\\n\\n1. Platform Overview:\\n- Introduction to SolveIT, a custom educational platform combining code, notes, and AI assistance\\n- Explanation of dialogue-based problem solving approach\\n- Basic platform features and keyboard shortcuts\\n\\n2. Problem Solving Framework:\\n- Introduction to Advent of Code programming challenges\\n- Demonstration of systematic problem solving using George Pólya\\'s methodology\\n- Emphasis on small, verifiable steps and data visualization\\n\\n3. Practical Example:\\n- Walked through solving Advent of Code 2023 Day 1 Part A\\n- Demonstrated iterative development process\\n- Showed how to combine Python coding with AI assistance\\n\\n4. Best Practices:\\n- Importance of checking documentation\\n- Value of testing code in small increments\\n- How to effectively combine human coding skills with AI assistance\\n\\nThe lesson concluded with homework assignments to complete Day 1 Part B and optionally Day 2, while emphasizing the importance of following the demonstrated methodical approach to problem solving.', 'type': 'text'}]`\n",
       "- model: `claude-3-5-sonnet-20241022`\n",
       "- role: `assistant`\n",
       "- stop_reason: `end_turn`\n",
       "- stop_sequence: `None`\n",
       "- type: `message`\n",
       "- usage: `{'cache_creation_input_tokens': 0, 'cache_read_input_tokens': 0, 'input_tokens': 19032, 'output_tokens': 274}`\n",
       "\n",
       "</details>"
      ],
      "text/plain": [
       "Message(id='msg_01PF65eQeFYeQw7Aek9eUY6J', content=[TextBlock(citations=None, text='Here\\'s a title and summary for this lesson:\\n\\nTitle: \"Introduction to Dialogue Engineering with Python and Advent of Code\"\\n\\nSummary:\\nThis first lesson introduces the SolveIT platform and dialogue engineering approach to problem solving with AI and code. Key topics covered:\\n\\n1. Platform Overview:\\n- Introduction to SolveIT, a custom educational platform combining code, notes, and AI assistance\\n- Explanation of dialogue-based problem solving approach\\n- Basic platform features and keyboard shortcuts\\n\\n2. Problem Solving Framework:\\n- Introduction to Advent of Code programming challenges\\n- Demonstration of systematic problem solving using George Pólya\\'s methodology\\n- Emphasis on small, verifiable steps and data visualization\\n\\n3. Practical Example:\\n- Walked through solving Advent of Code 2023 Day 1 Part A\\n- Demonstrated iterative development process\\n- Showed how to combine Python coding with AI assistance\\n\\n4. Best Practices:\\n- Importance of checking documentation\\n- Value of testing code in small increments\\n- How to effectively combine human coding skills with AI assistance\\n\\nThe lesson concluded with homework assignments to complete Day 1 Part B and optionally Day 2, while emphasizing the importance of following the demonstrated methodical approach to problem solving.', type='text')], model='claude-3-5-sonnet-20241022', role='assistant', stop_reason='end_turn', stop_sequence=None, type='message', usage=In: 19032; Out: 274; Cache create: 0; Cache read: 0; Total: 19306)"
      ]
     },
     "execution_count": 6,
     "metadata": {},
     "output_type": "execute_result"
    }
   ],
   "source": [
    "chat = Chat(model, sp=\"You are a helpful assistant that produces titles, and summaries for SolveIT lessons.\")\n",
    "chat(t1)"
   ]
  },
  {
   "cell_type": "code",
   "execution_count": 7,
   "metadata": {},
   "outputs": [
    {
     "data": {
      "text/plain": [
       "[Summary(title='Introduction to SolveIT and Dialogue Engineering', summary='This introductory lesson covered several key topics:\\n\\n1. Platform logistics and guidelines:\\n- 2GB disk quota limit for users\\n- Resource usage considerations\\n- Discord usage tips and organization\\n\\n2. Introduction to SolveIT platform:\\n- Custom-built educational environment combining code, notes, and AI assistance\\n- Features like persistent Python interpreter, markdown support, and variable tracking\\n- Export capabilities to notebooks/Python files\\n\\n3. Dialogue Engineering approach:\\n- New methodology for combining code and language models\\n- Focus on iterative, controlled problem-solving\\n- Emphasis on user control rather than AI dominance\\n\\n4. Practical demonstration:\\n- Solved Advent of Code 2023 Day 1A problem\\n- Demonstrated step-by-step problem solving approach\\n- Showed how to break down problems into small, testable pieces\\n- Emphasized checking data/output at each step\\n\\n5. Best practices:\\n- Reading documentation for new functions/features\\n- Using exploratory programming techniques\\n- Testing code in isolation before integration\\n- Maintaining rigorous approach even for simple problems\\n\\nThe lesson concluded with homework assignments to complete Day 1B and optionally Day 2 of Advent of Code using the demonstrated techniques.')]"
      ]
     },
     "execution_count": 7,
     "metadata": {},
     "output_type": "execute_result"
    }
   ],
   "source": [
    "from fastcore.basics import BasicRepr\n",
    "class Summary(BasicRepr):\n",
    "    \"Information about a SolveIT lesson\"\n",
    "    def __init__(self, \n",
    "                title:str, # title of the lesson\n",
    "                summary:str, # summary of the lesson\n",
    "                ):\n",
    "        self.title = title\n",
    "        self.summary = summary\n",
    "\n",
    "cli = Client(model)\n",
    "s = cli.structured(f\"You are a helpful assistant that produces titles, and summaries for SolveIT lessons. Provide information from the following SolveIT lesson transcript. {t1}\", Summary)\n",
    "s\n"
   ]
  },
  {
   "cell_type": "code",
   "execution_count": 18,
   "metadata": {},
   "outputs": [],
   "source": [
    "def summarize_lesson(filepath):\n",
    "    t = open(filepath).read()\n",
    "    cli = Client(model)\n",
    "    return cli.structured(f\"You are a helpful assistant that produces titles, and summaries for SolveIT lessons. Provide information from the following SolveIT lesson transcript. {t}\", Summary)\n"
   ]
  },
  {
   "cell_type": "code",
   "execution_count": 9,
   "metadata": {},
   "outputs": [
    {
     "data": {
      "text/plain": [
       "(#12) ['transcripts/SIWC Lesson 8.txt','transcripts/SIWC Lesson 9.txt','transcripts/SIWC - lesson1.txt','transcripts/SIWC Lesson 11.txt','transcripts/SIWC Lesson 10.txt','transcripts/SIWC Lesson 12.txt','transcripts/SIWC Lesson 2.txt','transcripts/SIWC Lesson 3.txt','transcripts/SIWC Lesson 7.txt','transcripts/SIWC Lesson 6.txt','transcripts/SIWC Lesson 4.txt','transcripts/SIWC Lesson 5.txt']"
      ]
     },
     "execution_count": 9,
     "metadata": {},
     "output_type": "execute_result"
    }
   ],
   "source": [
    "# let's get all the transcripts\n",
    "ts = globtastic('./transcripts', file_glob='*.txt')\n",
    "ts\n"
   ]
  },
  {
   "cell_type": "code",
   "execution_count": null,
   "metadata": {},
   "outputs": [
    {
     "ename": "BrokenProcessPool",
     "evalue": "A process in the process pool was terminated abruptly while the future was running or pending.",
     "output_type": "error",
     "traceback": [
      "\u001b[0;31m---------------------------------------------------------------------------\u001b[0m",
      "\u001b[0;31m_RemoteTraceback\u001b[0m                          Traceback (most recent call last)",
      "\u001b[0;31m_RemoteTraceback\u001b[0m: \n'''\nTraceback (most recent call last):\n  File \"/Library/Frameworks/Python.framework/Versions/3.12/lib/python3.12/concurrent/futures/process.py\", line 433, in wait_result_broken_or_wakeup\n    result_item = result_reader.recv()\n                  ^^^^^^^^^^^^^^^^^^^^\n  File \"/Library/Frameworks/Python.framework/Versions/3.12/lib/python3.12/multiprocessing/connection.py\", line 251, in recv\n    return _ForkingPickler.loads(buf.getbuffer())\n           ^^^^^^^^^^^^^^^^^^^^^^^^^^^^^^^^^^^^^^\nTypeError: APIStatusError.__init__() missing 2 required keyword-only arguments: 'response' and 'body'\n'''",
      "\nThe above exception was the direct cause of the following exception:\n",
      "\u001b[0;31mBrokenProcessPool\u001b[0m                         Traceback (most recent call last)",
      "Cell \u001b[0;32mIn[20], line 2\u001b[0m\n\u001b[1;32m      1\u001b[0m \u001b[38;5;66;03m# I had some error running in parallel\u001b[39;00m\n\u001b[0;32m----> 2\u001b[0m summaries \u001b[38;5;241m=\u001b[39m \u001b[43mparallel\u001b[49m\u001b[43m(\u001b[49m\u001b[43msummarize_lesson\u001b[49m\u001b[43m,\u001b[49m\u001b[43m \u001b[49m\u001b[43mts\u001b[49m\u001b[43m)\u001b[49m\n",
      "File \u001b[0;32m~/go/github.com/kafkasl/solveit-summaries/venv/lib/python3.12/site-packages/fastcore/parallel.py:134\u001b[0m, in \u001b[0;36mparallel\u001b[0;34m(f, items, n_workers, total, progress, pause, method, threadpool, timeout, chunksize, *args, **kwargs)\u001b[0m\n\u001b[1;32m    132\u001b[0m     \u001b[38;5;28;01mif\u001b[39;00m total \u001b[38;5;129;01mis\u001b[39;00m \u001b[38;5;28;01mNone\u001b[39;00m: total \u001b[38;5;241m=\u001b[39m \u001b[38;5;28mlen\u001b[39m(items)\n\u001b[1;32m    133\u001b[0m     r \u001b[38;5;241m=\u001b[39m progress_bar(r, total\u001b[38;5;241m=\u001b[39mtotal, leave\u001b[38;5;241m=\u001b[39m\u001b[38;5;28;01mFalse\u001b[39;00m)\n\u001b[0;32m--> 134\u001b[0m \u001b[38;5;28;01mreturn\u001b[39;00m \u001b[43mL\u001b[49m\u001b[43m(\u001b[49m\u001b[43mr\u001b[49m\u001b[43m)\u001b[49m\n",
      "File \u001b[0;32m~/go/github.com/kafkasl/solveit-summaries/venv/lib/python3.12/site-packages/fastcore/foundation.py:100\u001b[0m, in \u001b[0;36m_L_Meta.__call__\u001b[0;34m(cls, x, *args, **kwargs)\u001b[0m\n\u001b[1;32m     98\u001b[0m \u001b[38;5;28;01mdef\u001b[39;00m\u001b[38;5;250m \u001b[39m\u001b[38;5;21m__call__\u001b[39m(\u001b[38;5;28mcls\u001b[39m, x\u001b[38;5;241m=\u001b[39m\u001b[38;5;28;01mNone\u001b[39;00m, \u001b[38;5;241m*\u001b[39margs, \u001b[38;5;241m*\u001b[39m\u001b[38;5;241m*\u001b[39mkwargs):\n\u001b[1;32m     99\u001b[0m     \u001b[38;5;28;01mif\u001b[39;00m \u001b[38;5;129;01mnot\u001b[39;00m args \u001b[38;5;129;01mand\u001b[39;00m \u001b[38;5;129;01mnot\u001b[39;00m kwargs \u001b[38;5;129;01mand\u001b[39;00m x \u001b[38;5;129;01mis\u001b[39;00m \u001b[38;5;129;01mnot\u001b[39;00m \u001b[38;5;28;01mNone\u001b[39;00m \u001b[38;5;129;01mand\u001b[39;00m \u001b[38;5;28misinstance\u001b[39m(x,\u001b[38;5;28mcls\u001b[39m): \u001b[38;5;28;01mreturn\u001b[39;00m x\n\u001b[0;32m--> 100\u001b[0m     \u001b[38;5;28;01mreturn\u001b[39;00m \u001b[38;5;28;43msuper\u001b[39;49m\u001b[43m(\u001b[49m\u001b[43m)\u001b[49m\u001b[38;5;241;43m.\u001b[39;49m\u001b[38;5;21;43m__call__\u001b[39;49m\u001b[43m(\u001b[49m\u001b[43mx\u001b[49m\u001b[43m,\u001b[49m\u001b[43m \u001b[49m\u001b[38;5;241;43m*\u001b[39;49m\u001b[43margs\u001b[49m\u001b[43m,\u001b[49m\u001b[43m \u001b[49m\u001b[38;5;241;43m*\u001b[39;49m\u001b[38;5;241;43m*\u001b[39;49m\u001b[43mkwargs\u001b[49m\u001b[43m)\u001b[49m\n",
      "File \u001b[0;32m~/go/github.com/kafkasl/solveit-summaries/venv/lib/python3.12/site-packages/fastcore/foundation.py:108\u001b[0m, in \u001b[0;36mL.__init__\u001b[0;34m(self, items, use_list, match, *rest)\u001b[0m\n\u001b[1;32m    106\u001b[0m \u001b[38;5;28;01mdef\u001b[39;00m\u001b[38;5;250m \u001b[39m\u001b[38;5;21m__init__\u001b[39m(\u001b[38;5;28mself\u001b[39m, items\u001b[38;5;241m=\u001b[39m\u001b[38;5;28;01mNone\u001b[39;00m, \u001b[38;5;241m*\u001b[39mrest, use_list\u001b[38;5;241m=\u001b[39m\u001b[38;5;28;01mFalse\u001b[39;00m, match\u001b[38;5;241m=\u001b[39m\u001b[38;5;28;01mNone\u001b[39;00m):\n\u001b[1;32m    107\u001b[0m     \u001b[38;5;28;01mif\u001b[39;00m (use_list \u001b[38;5;129;01mis\u001b[39;00m \u001b[38;5;129;01mnot\u001b[39;00m \u001b[38;5;28;01mNone\u001b[39;00m) \u001b[38;5;129;01mor\u001b[39;00m \u001b[38;5;129;01mnot\u001b[39;00m is_array(items):\n\u001b[0;32m--> 108\u001b[0m         items \u001b[38;5;241m=\u001b[39m \u001b[43mlistify\u001b[49m\u001b[43m(\u001b[49m\u001b[43mitems\u001b[49m\u001b[43m,\u001b[49m\u001b[43m \u001b[49m\u001b[38;5;241;43m*\u001b[39;49m\u001b[43mrest\u001b[49m\u001b[43m,\u001b[49m\u001b[43m \u001b[49m\u001b[43muse_list\u001b[49m\u001b[38;5;241;43m=\u001b[39;49m\u001b[43muse_list\u001b[49m\u001b[43m,\u001b[49m\u001b[43m \u001b[49m\u001b[43mmatch\u001b[49m\u001b[38;5;241;43m=\u001b[39;49m\u001b[43mmatch\u001b[49m\u001b[43m)\u001b[49m\n\u001b[1;32m    109\u001b[0m     \u001b[38;5;28msuper\u001b[39m()\u001b[38;5;241m.\u001b[39m\u001b[38;5;21m__init__\u001b[39m(items)\n",
      "File \u001b[0;32m~/go/github.com/kafkasl/solveit-summaries/venv/lib/python3.12/site-packages/fastcore/basics.py:79\u001b[0m, in \u001b[0;36mlistify\u001b[0;34m(o, use_list, match, *rest)\u001b[0m\n\u001b[1;32m     77\u001b[0m \u001b[38;5;28;01melif\u001b[39;00m \u001b[38;5;28misinstance\u001b[39m(o, \u001b[38;5;28mlist\u001b[39m): res \u001b[38;5;241m=\u001b[39m o\n\u001b[1;32m     78\u001b[0m \u001b[38;5;28;01melif\u001b[39;00m \u001b[38;5;28misinstance\u001b[39m(o, \u001b[38;5;28mstr\u001b[39m) \u001b[38;5;129;01mor\u001b[39;00m \u001b[38;5;28misinstance\u001b[39m(o, \u001b[38;5;28mbytes\u001b[39m) \u001b[38;5;129;01mor\u001b[39;00m is_array(o): res \u001b[38;5;241m=\u001b[39m [o]\n\u001b[0;32m---> 79\u001b[0m \u001b[38;5;28;01melif\u001b[39;00m is_iter(o): res \u001b[38;5;241m=\u001b[39m \u001b[38;5;28;43mlist\u001b[39;49m\u001b[43m(\u001b[49m\u001b[43mo\u001b[49m\u001b[43m)\u001b[49m\n\u001b[1;32m     80\u001b[0m \u001b[38;5;28;01melse\u001b[39;00m: res \u001b[38;5;241m=\u001b[39m [o]\n\u001b[1;32m     81\u001b[0m \u001b[38;5;28;01mif\u001b[39;00m match \u001b[38;5;129;01mis\u001b[39;00m \u001b[38;5;129;01mnot\u001b[39;00m \u001b[38;5;28;01mNone\u001b[39;00m:\n",
      "File \u001b[0;32m/Library/Frameworks/Python.framework/Versions/3.12/lib/python3.12/concurrent/futures/process.py:642\u001b[0m, in \u001b[0;36m_chain_from_iterable_of_lists\u001b[0;34m(iterable)\u001b[0m\n\u001b[1;32m    636\u001b[0m \u001b[38;5;28;01mdef\u001b[39;00m\u001b[38;5;250m \u001b[39m\u001b[38;5;21m_chain_from_iterable_of_lists\u001b[39m(iterable):\n\u001b[1;32m    637\u001b[0m \u001b[38;5;250m    \u001b[39m\u001b[38;5;124;03m\"\"\"\u001b[39;00m\n\u001b[1;32m    638\u001b[0m \u001b[38;5;124;03m    Specialized implementation of itertools.chain.from_iterable.\u001b[39;00m\n\u001b[1;32m    639\u001b[0m \u001b[38;5;124;03m    Each item in *iterable* should be a list.  This function is\u001b[39;00m\n\u001b[1;32m    640\u001b[0m \u001b[38;5;124;03m    careful not to keep references to yielded objects.\u001b[39;00m\n\u001b[1;32m    641\u001b[0m \u001b[38;5;124;03m    \"\"\"\u001b[39;00m\n\u001b[0;32m--> 642\u001b[0m \u001b[43m    \u001b[49m\u001b[38;5;28;43;01mfor\u001b[39;49;00m\u001b[43m \u001b[49m\u001b[43melement\u001b[49m\u001b[43m \u001b[49m\u001b[38;5;129;43;01min\u001b[39;49;00m\u001b[43m \u001b[49m\u001b[43miterable\u001b[49m\u001b[43m:\u001b[49m\n\u001b[1;32m    643\u001b[0m \u001b[43m        \u001b[49m\u001b[43melement\u001b[49m\u001b[38;5;241;43m.\u001b[39;49m\u001b[43mreverse\u001b[49m\u001b[43m(\u001b[49m\u001b[43m)\u001b[49m\n\u001b[1;32m    644\u001b[0m \u001b[43m        \u001b[49m\u001b[38;5;28;43;01mwhile\u001b[39;49;00m\u001b[43m \u001b[49m\u001b[43melement\u001b[49m\u001b[43m:\u001b[49m\n",
      "File \u001b[0;32m/Library/Frameworks/Python.framework/Versions/3.12/lib/python3.12/concurrent/futures/_base.py:619\u001b[0m, in \u001b[0;36mExecutor.map.<locals>.result_iterator\u001b[0;34m()\u001b[0m\n\u001b[1;32m    616\u001b[0m \u001b[38;5;28;01mwhile\u001b[39;00m fs:\n\u001b[1;32m    617\u001b[0m     \u001b[38;5;66;03m# Careful not to keep a reference to the popped future\u001b[39;00m\n\u001b[1;32m    618\u001b[0m     \u001b[38;5;28;01mif\u001b[39;00m timeout \u001b[38;5;129;01mis\u001b[39;00m \u001b[38;5;28;01mNone\u001b[39;00m:\n\u001b[0;32m--> 619\u001b[0m         \u001b[38;5;28;01myield\u001b[39;00m \u001b[43m_result_or_cancel\u001b[49m\u001b[43m(\u001b[49m\u001b[43mfs\u001b[49m\u001b[38;5;241;43m.\u001b[39;49m\u001b[43mpop\u001b[49m\u001b[43m(\u001b[49m\u001b[43m)\u001b[49m\u001b[43m)\u001b[49m\n\u001b[1;32m    620\u001b[0m     \u001b[38;5;28;01melse\u001b[39;00m:\n\u001b[1;32m    621\u001b[0m         \u001b[38;5;28;01myield\u001b[39;00m _result_or_cancel(fs\u001b[38;5;241m.\u001b[39mpop(), end_time \u001b[38;5;241m-\u001b[39m time\u001b[38;5;241m.\u001b[39mmonotonic())\n",
      "File \u001b[0;32m/Library/Frameworks/Python.framework/Versions/3.12/lib/python3.12/concurrent/futures/_base.py:317\u001b[0m, in \u001b[0;36m_result_or_cancel\u001b[0;34m(***failed resolving arguments***)\u001b[0m\n\u001b[1;32m    315\u001b[0m \u001b[38;5;28;01mtry\u001b[39;00m:\n\u001b[1;32m    316\u001b[0m     \u001b[38;5;28;01mtry\u001b[39;00m:\n\u001b[0;32m--> 317\u001b[0m         \u001b[38;5;28;01mreturn\u001b[39;00m \u001b[43mfut\u001b[49m\u001b[38;5;241;43m.\u001b[39;49m\u001b[43mresult\u001b[49m\u001b[43m(\u001b[49m\u001b[43mtimeout\u001b[49m\u001b[43m)\u001b[49m\n\u001b[1;32m    318\u001b[0m     \u001b[38;5;28;01mfinally\u001b[39;00m:\n\u001b[1;32m    319\u001b[0m         fut\u001b[38;5;241m.\u001b[39mcancel()\n",
      "File \u001b[0;32m/Library/Frameworks/Python.framework/Versions/3.12/lib/python3.12/concurrent/futures/_base.py:456\u001b[0m, in \u001b[0;36mFuture.result\u001b[0;34m(self, timeout)\u001b[0m\n\u001b[1;32m    454\u001b[0m     \u001b[38;5;28;01mraise\u001b[39;00m CancelledError()\n\u001b[1;32m    455\u001b[0m \u001b[38;5;28;01melif\u001b[39;00m \u001b[38;5;28mself\u001b[39m\u001b[38;5;241m.\u001b[39m_state \u001b[38;5;241m==\u001b[39m FINISHED:\n\u001b[0;32m--> 456\u001b[0m     \u001b[38;5;28;01mreturn\u001b[39;00m \u001b[38;5;28;43mself\u001b[39;49m\u001b[38;5;241;43m.\u001b[39;49m\u001b[43m__get_result\u001b[49m\u001b[43m(\u001b[49m\u001b[43m)\u001b[49m\n\u001b[1;32m    457\u001b[0m \u001b[38;5;28;01melse\u001b[39;00m:\n\u001b[1;32m    458\u001b[0m     \u001b[38;5;28;01mraise\u001b[39;00m \u001b[38;5;167;01mTimeoutError\u001b[39;00m()\n",
      "File \u001b[0;32m/Library/Frameworks/Python.framework/Versions/3.12/lib/python3.12/concurrent/futures/_base.py:401\u001b[0m, in \u001b[0;36mFuture.__get_result\u001b[0;34m(self)\u001b[0m\n\u001b[1;32m    399\u001b[0m \u001b[38;5;28;01mif\u001b[39;00m \u001b[38;5;28mself\u001b[39m\u001b[38;5;241m.\u001b[39m_exception:\n\u001b[1;32m    400\u001b[0m     \u001b[38;5;28;01mtry\u001b[39;00m:\n\u001b[0;32m--> 401\u001b[0m         \u001b[38;5;28;01mraise\u001b[39;00m \u001b[38;5;28mself\u001b[39m\u001b[38;5;241m.\u001b[39m_exception\n\u001b[1;32m    402\u001b[0m     \u001b[38;5;28;01mfinally\u001b[39;00m:\n\u001b[1;32m    403\u001b[0m         \u001b[38;5;66;03m# Break a reference cycle with the exception in self._exception\u001b[39;00m\n\u001b[1;32m    404\u001b[0m         \u001b[38;5;28mself\u001b[39m \u001b[38;5;241m=\u001b[39m \u001b[38;5;28;01mNone\u001b[39;00m\n",
      "\u001b[0;31mBrokenProcessPool\u001b[0m: A process in the process pool was terminated abruptly while the future was running or pending."
     ]
    }
   ],
   "source": [
    "# I had some error running in parallel not sure why\n",
    "# summaries = parallel(summarize_lesson, ts)"
   ]
  },
  {
   "cell_type": "code",
   "execution_count": 21,
   "metadata": {},
   "outputs": [
    {
     "data": {
      "text/plain": [
       "(#12) [[Summary(title='Lean Startup, Iteration Speed, and Building Better Tools with Eric Ries', summary='In this lesson, Eric Ries joins to discuss his reactions to SolveIT and shares insights from his experience developing the Lean Startup methodology. Key themes include:\\n\\n1. The importance of rapid iteration and feedback loops in product development\\n- Smaller batch sizes and faster feedback cycles lead to better outcomes\\n- The build-measure-learn feedback loop is fundamental to learning and improvement\\n- Technical tools that reduce friction enable faster iteration\\n\\n2. The value of being your own customer\\n- Building tools you want to use yourself provides immediate feedback\\n- Co-evolution between developers and tools leads to better products\\n- Internal usage as a key metric of success\\n\\n3. The role of experimentation and scientific thinking\\n- Treating assumptions as hypotheses that need testing\\n- The importance of defining clear expectations and measuring outcomes\\n- A/B testing and usability studies as tools for learning\\n\\n4. Cultural challenges around iteration and uncertainty\\n- Resistance to experimental approaches vs traditional planning\\n- The discomfort of not having detailed long-term plans\\n- The value of having a \"North Star\" vision while maintaining flexibility\\n\\nThe discussion highlighted how SolveIT embodies many Lean Startup principles through its focus on rapid iteration, immediate feedback, and building tools that solve real problems for its own team first.')],[Summary(title='Building with External AI APIs', summary=\"This lesson explored how to leverage external AI APIs to build applications without needing to run your own infrastructure. Key topics covered:\\n\\n1. Using embeddings for semantic search:\\n- Demonstrated using Google's Gemini text embedding model\\n- Created embeddings for Wikipedia articles and queries\\n- Implemented cosine similarity for finding relevant matches\\n\\n2. Working with multiple AI APIs:\\n- Image generation using Replicate's SDXL model\\n- Prompt expansion using language models\\n- Text-to-speech using OpenAI's API\\n- Discussed various providers and their tradeoffs\\n\\n3. Best practices:\\n- Using quick start guides and documentation\\n- Parallel processing for network requests\\n- Handling rate limits and quotas\\n- Choosing between different model providers\\n\\nThe lesson emphasized how combining these building blocks allows creating sophisticated applications quickly and efficiently, while discussing considerations around costs, speed, and quality tradeoffs between different providers.\")],[Summary(title='Introduction to SolveIT and Dialogue Engineering', summary='This introductory lesson covered several key topics:\\n\\n1. Platform logistics and guidelines:\\n- 2GB disk quota limit for users\\n- Resource usage considerations\\n- Discord usage tips and organization\\n\\n2. Introduction to SolveIT platform:\\n- Custom-built educational environment combining code, notes, and AI assistance\\n- Features persistent Python interpreter\\n- Supports markdown formatting\\n- Enables dialogue-based problem solving\\n\\n3. Dialogue Engineering approach:\\n- New methodology for combining code and language models\\n- Focuses on iterative, user-controlled process\\n- Emphasizes understanding each step\\n\\n4. Practical demonstration:\\n- Solved Advent of Code 2023 Day 1A problem\\n- Demonstrated step-by-step problem solving\\n- Showed how to break down complex problems\\n- Emphasized data verification at each step\\n\\n5. Best practices:\\n- Reading documentation\\n- Testing code incrementally\\n- Using sample inputs\\n- Maintaining organized dialogues\\n\\nThe lesson concluded with homework assignments to complete Advent of Code Day 1B and optionally Day 2, encouraging students to apply the dialogue engineering approach.')],[Summary(title='Creating Web Apps with SolveIT and FastHTML', summary=\"This lesson demonstrates different approaches to creating web applications, starting with simple AI-generated static sites and progressing to more interactive solutions using FastHTML and MonsterUI. The instructors show how to:\\n\\n1. Generate quick static websites using tools like ChatGPT, Claude, and various AI platforms\\n2. Create a blog application step-by-step using SolveIT and FastHTML\\n3. Work with Markdown content and convert it to styled HTML\\n4. Use MonsterUI components for consistent styling and layout\\n5. Deploy locally using FastHTML's development server\\n\\nThe lesson emphasizes the benefits of FastHTML's approach compared to traditional web frameworks, highlighting how it enables rapid development without requiring deep web development expertise. The instructors also discuss the potential for creating more interactive blog experiences versus traditional static sites.\")],[Summary(title='Building an R&D Company with Values and Vision', summary=\"Eric Ries and Jeremy Howard discuss building Answer AI as an R&D company focused on beneficial AI development. Key points include:\\n\\n- The importance of having a clear vision and values while maintaining flexibility to learn and adapt\\n- Making Answer AI a Public Benefit Corporation to institutionalize its mission of creating societally beneficial AI\\n- Taking an unconventional approach by limiting headcount to 10-12 world-class researchers and avoiding traditional corporate structures\\n- Using metrics appropriately based on signal-to-noise ratio rather than focusing only on analytics\\n- Building products people want to buy for more than they cost to make, while ensuring societal benefit\\n- Creating Solveit as part of Answer AI's R&D infrastructure and fostering a community around it\\n- The value of going back to first principles rather than copying other companies' specific practices\\n\\nThe discussion emphasizes how Answer AI aims to maintain coherence between its mission, structure, and operations while avoiding common pitfalls of traditional corporate scaling.\")],[Summary(title='Building a Blog with Fast HTML and Monster UI', summary=\"In this lesson, the instructors demonstrate how to build a blog interface using Fast HTML and Monster UI components. They show how to create blog post cards with titles, images, descriptions, dates, authors and category tags in a grid layout. The lesson covers working with HTML components, styling with Monster UI classes, handling missing data gracefully, and creating reusable functions. They also preview upcoming content on adding interactivity and semantic search capabilities to the blog. The lesson emphasizes a step-by-step, bottom-up approach to web development using Solvert's interactive environment.\")],[Summary(title='SolveIT Lesson 2: Coding Process, List Comprehensions, and Problem Solving', summary=\"This lesson covered several key topics:\\n\\n1. Logistics and Discord announcements:\\n- Setting up notifications for announcements\\n- Upcoming 2GB quota implementation\\n- Community pair programming sessions\\n- Office hours with Alexis\\n\\n2. Programming concepts and techniques:\\n- Introduction to list comprehensions in Python\\n- Importance of step-by-step problem solving\\n- Debugging and iterative development\\n- Using the SolveIT environment effectively\\n\\n3. Live coding demonstration:\\n- Solving Advent of Code problems\\n- Demonstrating the importance of breaking down problems\\n- Showing debugging techniques\\n- Discussion of code organization and documentation\\n\\n4. Best practices:\\n- Writing code in small, testable pieces\\n- Using consistent variable naming\\n- Importance of testing intermediate outputs\\n- Value of sharing solution processes via dialogue exports\\n\\n5. Tips for using AI:\\n- When and how to effectively use AI assistance\\n- Understanding AI's tendencies and limitations\\n- Steering AI responses for better results\\n\\nThe lesson emphasized the importance of process over just getting the right answer, and demonstrated how methodical problem-solving approaches can lead to more maintainable and understandable code.\")],[Summary(title='SolveIT Lesson 3: Beyond Advent of Code', summary=\"This lesson covered several key topics:\\n\\n1. Platform logistics and updates:\\n- How to restart SolveIT platform when encountering issues\\n- Bug fixes for message saving and notebook exports\\n\\n2. Community examples and insights:\\n- Highlighted effective dialogue examples from Discord\\n- Discussed how the SolveIT methodology changes problem-solving approaches\\n\\n3. Non-Advent of Code examples:\\n- Language model evaluation demonstration using GSM8K dataset\\n- Blue Sky data wrangling example using Google Colab\\n\\n4. Advent of Code Day 2 walkthrough:\\n- Detailed problem-solving approach\\n- Discussion of different implementation styles\\n- Converting exploratory code to functions\\n\\n5. Speed run demonstration:\\n- Quick solution of previous day's problem\\n- Advanced Python techniques and patterns\\n- Discussion of state management in REPL environments\\n\\nThe lesson emphasized practical problem-solving techniques, code organization, and different approaches to turning exploratory code into reusable solutions.\")],[Summary(title='Web Scraping and Graph Problem Classification with Claude', summary='In this lesson, Jeremy Howard and Johnno demonstrate how to use web scraping and LLMs to analyze Advent of Code 2024 problems. They cover:\\n\\n1. Web scraping fundamentals using Beautiful Soup and CSS selectors\\n2. Using Chrome Developer Tools to inspect web pages\\n3. Working with the Claude API via the claude-at library\\n4. Creating structured outputs with Claude for classifying problems\\n5. Processing multiple problems in parallel\\n6. Best practices for exploring new libraries and documentation\\n\\nThe lesson shows how to combine these tools to identify which Advent of Code problems could benefit from graph-based solutions, demonstrating practical application of the SolveIT methodology to a real task. Key takeaways include incrementally building solutions, checking work as you go, and using AI assistants effectively while still understanding the underlying concepts.')],[Summary(title='SolveIT Lesson: Building Reusable Code and Problem-Solving Techniques', summary='This lesson covered several key topics around building reusable code and problem-solving approaches:\\n\\n1. New SolveIT feature allowing dialogues to be treated as modules with exported functions\\n- Demonstrated creating a Utils.py module with commonly used functions\\n- Showed how to export specific functions using the red export toggle\\n- Explained how this helps create reusable artifacts from problem-solving process\\n\\n2. Discussion of backup system development example\\n- Walked through creating a backup system using incremental problem-solving approach\\n- Demonstrated using notebooks for development and testing\\n- Showed how to turn solution into deployable package using nbdev\\n\\n3. Problem-solving techniques demonstrated through Advent of Code Day 12\\n- Importance of visualization and diagramming\\n- Breaking down complex problems into smaller pieces\\n- Testing with simple examples\\n- Using existing tools rather than reinventing (e.g. scipy.ndimage.label)\\n\\n4. Code organization and tools\\n- Introduction to classes for organizing code and state\\n- Using zip and other Python features effectively\\n- Leveraging AI tools as part of development process\\n- Importance of keeping solutions simple and avoiding premature abstraction\\n\\nThe lesson emphasized practical problem-solving approaches, creating reusable code, and leveraging tools effectively while maintaining simplicity.')],[Summary(title='Shell Sage Demo and Learning Approaches', summary='This lesson covered two main topics:\\n\\n1. Shell Sage Demo:\\n- Introduction to Shell Sage, an AI terminal assistant that provides context-aware help\\n- Demo of basic Tmux usage including panes, sessions, and common commands\\n- Example of using Shell Sage to find and clean up large files on a server\\n- Discussion of authentication and API key requirements\\n\\n2. Learning Approaches:\\n- Demonstration of using AI tools like Claude Projects for learning\\n- Example of breaking down complex topics into smaller pieces\\n- Discussion of documentation approaches and using regular expressions\\n- Emphasis on iterative development and testing small pieces\\n- Tips for effective learning including using examples and building understanding gradually\\n\\nThe lesson highlighted the importance of methodical learning approaches and leveraging AI tools effectively while maintaining human guidance and understanding.')],[Summary(title='SolveIT Lesson 5: Problem Solving Techniques and Tools', summary=\"This lesson covered several key problem-solving techniques and tools:\\n\\n1. Success story from student Vishal using SolveIT/Polya guidelines to navigate complex ML codebase\\n2. Discussion of OpenAI's O1 capabilities and limitations with complex spatial/geometric problems\\n3. Detailed walkthrough of solving Advent of Code Day 4 Part A, demonstrating:\\n   - Using regex library for advanced pattern matching\\n   - Working with sets for finding intersections/unions\\n   - Building solutions incrementally with testing\\n4. Brief coverage of Day 3 Part B, showing how good groundwork in Part A enables quick Part B solutions\\n5. Tips on notation and naming conventions in code\\n6. Discussion of recursion concepts through file system traversal example\\n\\nKey takeaways:\\n- Take time to understand problems before coding\\n- Break down complex problems into smaller steps\\n- Test incrementally\\n- Build reusable components\\n- Don't be afraid to use paper for planning\\n- Focus on learning rather than completion speed\")]]"
      ]
     },
     "execution_count": 21,
     "metadata": {},
     "output_type": "execute_result"
    }
   ],
   "source": [
    "summaries = ts.map(summarize_lesson)\n",
    "summaries"
   ]
  },
  {
   "cell_type": "code",
   "execution_count": 28,
   "metadata": {},
   "outputs": [
    {
     "data": {
      "text/plain": [
       "(#12) [('transcripts/SIWC Lesson 8.txt', [Summary(title='Lean Startup, Iteration Speed, and Building Better Tools with Eric Ries', summary='In this lesson, Eric Ries joins to discuss his reactions to SolveIT and shares insights from his experience developing the Lean Startup methodology. Key themes include:\\n\\n1. The importance of rapid iteration and feedback loops in product development\\n- Smaller batch sizes and faster feedback cycles lead to better outcomes\\n- The build-measure-learn feedback loop is fundamental to learning and improvement\\n- Technical tools that reduce friction enable faster iteration\\n\\n2. The value of being your own customer\\n- Building tools you want to use yourself provides immediate feedback\\n- Co-evolution between developers and tools leads to better products\\n- Internal usage as a key metric of success\\n\\n3. The role of experimentation and scientific thinking\\n- Treating assumptions as hypotheses that need testing\\n- The importance of defining clear expectations and measuring outcomes\\n- A/B testing and usability studies as tools for learning\\n\\n4. Cultural challenges around iteration and uncertainty\\n- Resistance to experimental approaches vs traditional planning\\n- The discomfort of not having detailed long-term plans\\n- The value of having a \"North Star\" vision while maintaining flexibility\\n\\nThe discussion highlighted how SolveIT embodies many Lean Startup principles through its focus on rapid iteration, immediate feedback, and building tools that solve real problems for its own team first.')]),('transcripts/SIWC Lesson 9.txt', [Summary(title='Building with External AI APIs', summary=\"This lesson explored how to leverage external AI APIs to build applications without needing to run your own infrastructure. Key topics covered:\\n\\n1. Using embeddings for semantic search:\\n- Demonstrated using Google's Gemini text embedding model\\n- Created embeddings for Wikipedia articles and queries\\n- Implemented cosine similarity for finding relevant matches\\n\\n2. Working with multiple AI APIs:\\n- Image generation using Replicate's SDXL model\\n- Prompt expansion using language models\\n- Text-to-speech using OpenAI's API\\n- Discussed various providers and their tradeoffs\\n\\n3. Best practices:\\n- Using quick start guides and documentation\\n- Parallel processing for network requests\\n- Handling rate limits and quotas\\n- Choosing between different model providers\\n\\nThe lesson emphasized how combining these building blocks allows creating sophisticated applications quickly and efficiently, while discussing considerations around costs, speed, and quality tradeoffs between different providers.\")]),('transcripts/SIWC - lesson1.txt', [Summary(title='Introduction to SolveIT and Dialogue Engineering', summary='This introductory lesson covered several key topics:\\n\\n1. Platform logistics and guidelines:\\n- 2GB disk quota limit for users\\n- Resource usage considerations\\n- Discord usage tips and organization\\n\\n2. Introduction to SolveIT platform:\\n- Custom-built educational environment combining code, notes, and AI assistance\\n- Features persistent Python interpreter\\n- Supports markdown formatting\\n- Enables dialogue-based problem solving\\n\\n3. Dialogue Engineering approach:\\n- New methodology for combining code and language models\\n- Focuses on iterative, user-controlled process\\n- Emphasizes understanding each step\\n\\n4. Practical demonstration:\\n- Solved Advent of Code 2023 Day 1A problem\\n- Demonstrated step-by-step problem solving\\n- Showed how to break down complex problems\\n- Emphasized data verification at each step\\n\\n5. Best practices:\\n- Reading documentation\\n- Testing code incrementally\\n- Using sample inputs\\n- Maintaining organized dialogues\\n\\nThe lesson concluded with homework assignments to complete Advent of Code Day 1B and optionally Day 2, encouraging students to apply the dialogue engineering approach.')]),('transcripts/SIWC Lesson 11.txt', [Summary(title='Creating Web Apps with SolveIT and FastHTML', summary=\"This lesson demonstrates different approaches to creating web applications, starting with simple AI-generated static sites and progressing to more interactive solutions using FastHTML and MonsterUI. The instructors show how to:\\n\\n1. Generate quick static websites using tools like ChatGPT, Claude, and various AI platforms\\n2. Create a blog application step-by-step using SolveIT and FastHTML\\n3. Work with Markdown content and convert it to styled HTML\\n4. Use MonsterUI components for consistent styling and layout\\n5. Deploy locally using FastHTML's development server\\n\\nThe lesson emphasizes the benefits of FastHTML's approach compared to traditional web frameworks, highlighting how it enables rapid development without requiring deep web development expertise. The instructors also discuss the potential for creating more interactive blog experiences versus traditional static sites.\")]),('transcripts/SIWC Lesson 10.txt', [Summary(title='Building an R&D Company with Values and Vision', summary=\"Eric Ries and Jeremy Howard discuss building Answer AI as an R&D company focused on beneficial AI development. Key points include:\\n\\n- The importance of having a clear vision and values while maintaining flexibility to learn and adapt\\n- Making Answer AI a Public Benefit Corporation to institutionalize its mission of creating societally beneficial AI\\n- Taking an unconventional approach by limiting headcount to 10-12 world-class researchers and avoiding traditional corporate structures\\n- Using metrics appropriately based on signal-to-noise ratio rather than focusing only on analytics\\n- Building products people want to buy for more than they cost to make, while ensuring societal benefit\\n- Creating Solveit as part of Answer AI's R&D infrastructure and fostering a community around it\\n- The value of going back to first principles rather than copying other companies' specific practices\\n\\nThe discussion emphasizes how Answer AI aims to maintain coherence between its mission, structure, and operations while avoiding common pitfalls of traditional corporate scaling.\")]),('transcripts/SIWC Lesson 12.txt', [Summary(title='Building a Blog with Fast HTML and Monster UI', summary=\"In this lesson, the instructors demonstrate how to build a blog interface using Fast HTML and Monster UI components. They show how to create blog post cards with titles, images, descriptions, dates, authors and category tags in a grid layout. The lesson covers working with HTML components, styling with Monster UI classes, handling missing data gracefully, and creating reusable functions. They also preview upcoming content on adding interactivity and semantic search capabilities to the blog. The lesson emphasizes a step-by-step, bottom-up approach to web development using Solvert's interactive environment.\")]),('transcripts/SIWC Lesson 2.txt', [Summary(title='SolveIT Lesson 2: Coding Process, List Comprehensions, and Problem Solving', summary=\"This lesson covered several key topics:\\n\\n1. Logistics and Discord announcements:\\n- Setting up notifications for announcements\\n- Upcoming 2GB quota implementation\\n- Community pair programming sessions\\n- Office hours with Alexis\\n\\n2. Programming concepts and techniques:\\n- Introduction to list comprehensions in Python\\n- Importance of step-by-step problem solving\\n- Debugging and iterative development\\n- Using the SolveIT environment effectively\\n\\n3. Live coding demonstration:\\n- Solving Advent of Code problems\\n- Demonstrating the importance of breaking down problems\\n- Showing debugging techniques\\n- Discussion of code organization and documentation\\n\\n4. Best practices:\\n- Writing code in small, testable pieces\\n- Using consistent variable naming\\n- Importance of testing intermediate outputs\\n- Value of sharing solution processes via dialogue exports\\n\\n5. Tips for using AI:\\n- When and how to effectively use AI assistance\\n- Understanding AI's tendencies and limitations\\n- Steering AI responses for better results\\n\\nThe lesson emphasized the importance of process over just getting the right answer, and demonstrated how methodical problem-solving approaches can lead to more maintainable and understandable code.\")]),('transcripts/SIWC Lesson 3.txt', [Summary(title='SolveIT Lesson 3: Beyond Advent of Code', summary=\"This lesson covered several key topics:\\n\\n1. Platform logistics and updates:\\n- How to restart SolveIT platform when encountering issues\\n- Bug fixes for message saving and notebook exports\\n\\n2. Community examples and insights:\\n- Highlighted effective dialogue examples from Discord\\n- Discussed how the SolveIT methodology changes problem-solving approaches\\n\\n3. Non-Advent of Code examples:\\n- Language model evaluation demonstration using GSM8K dataset\\n- Blue Sky data wrangling example using Google Colab\\n\\n4. Advent of Code Day 2 walkthrough:\\n- Detailed problem-solving approach\\n- Discussion of different implementation styles\\n- Converting exploratory code to functions\\n\\n5. Speed run demonstration:\\n- Quick solution of previous day's problem\\n- Advanced Python techniques and patterns\\n- Discussion of state management in REPL environments\\n\\nThe lesson emphasized practical problem-solving techniques, code organization, and different approaches to turning exploratory code into reusable solutions.\")]),('transcripts/SIWC Lesson 7.txt', [Summary(title='Web Scraping and Graph Problem Classification with Claude', summary='In this lesson, Jeremy Howard and Johnno demonstrate how to use web scraping and LLMs to analyze Advent of Code 2024 problems. They cover:\\n\\n1. Web scraping fundamentals using Beautiful Soup and CSS selectors\\n2. Using Chrome Developer Tools to inspect web pages\\n3. Working with the Claude API via the claude-at library\\n4. Creating structured outputs with Claude for classifying problems\\n5. Processing multiple problems in parallel\\n6. Best practices for exploring new libraries and documentation\\n\\nThe lesson shows how to combine these tools to identify which Advent of Code problems could benefit from graph-based solutions, demonstrating practical application of the SolveIT methodology to a real task. Key takeaways include incrementally building solutions, checking work as you go, and using AI assistants effectively while still understanding the underlying concepts.')]),('transcripts/SIWC Lesson 6.txt', [Summary(title='SolveIT Lesson: Building Reusable Code and Problem-Solving Techniques', summary='This lesson covered several key topics around building reusable code and problem-solving approaches:\\n\\n1. New SolveIT feature allowing dialogues to be treated as modules with exported functions\\n- Demonstrated creating a Utils.py module with commonly used functions\\n- Showed how to export specific functions using the red export toggle\\n- Explained how this helps create reusable artifacts from problem-solving process\\n\\n2. Discussion of backup system development example\\n- Walked through creating a backup system using incremental problem-solving approach\\n- Demonstrated using notebooks for development and testing\\n- Showed how to turn solution into deployable package using nbdev\\n\\n3. Problem-solving techniques demonstrated through Advent of Code Day 12\\n- Importance of visualization and diagramming\\n- Breaking down complex problems into smaller pieces\\n- Testing with simple examples\\n- Using existing tools rather than reinventing (e.g. scipy.ndimage.label)\\n\\n4. Code organization and tools\\n- Introduction to classes for organizing code and state\\n- Using zip and other Python features effectively\\n- Leveraging AI tools as part of development process\\n- Importance of keeping solutions simple and avoiding premature abstraction\\n\\nThe lesson emphasized practical problem-solving approaches, creating reusable code, and leveraging tools effectively while maintaining simplicity.')]),('transcripts/SIWC Lesson 4.txt', [Summary(title='Shell Sage Demo and Learning Approaches', summary='This lesson covered two main topics:\\n\\n1. Shell Sage Demo:\\n- Introduction to Shell Sage, an AI terminal assistant that provides context-aware help\\n- Demo of basic Tmux usage including panes, sessions, and common commands\\n- Example of using Shell Sage to find and clean up large files on a server\\n- Discussion of authentication and API key requirements\\n\\n2. Learning Approaches:\\n- Demonstration of using AI tools like Claude Projects for learning\\n- Example of breaking down complex topics into smaller pieces\\n- Discussion of documentation approaches and using regular expressions\\n- Emphasis on iterative development and testing small pieces\\n- Tips for effective learning including using examples and building understanding gradually\\n\\nThe lesson highlighted the importance of methodical learning approaches and leveraging AI tools effectively while maintaining human guidance and understanding.')]),('transcripts/SIWC Lesson 5.txt', [Summary(title='SolveIT Lesson 5: Problem Solving Techniques and Tools', summary=\"This lesson covered several key problem-solving techniques and tools:\\n\\n1. Success story from student Vishal using SolveIT/Polya guidelines to navigate complex ML codebase\\n2. Discussion of OpenAI's O1 capabilities and limitations with complex spatial/geometric problems\\n3. Detailed walkthrough of solving Advent of Code Day 4 Part A, demonstrating:\\n   - Using regex library for advanced pattern matching\\n   - Working with sets for finding intersections/unions\\n   - Building solutions incrementally with testing\\n4. Brief coverage of Day 3 Part B, showing how good groundwork in Part A enables quick Part B solutions\\n5. Tips on notation and naming conventions in code\\n6. Discussion of recursion concepts through file system traversal example\\n\\nKey takeaways:\\n- Take time to understand problems before coding\\n- Break down complex problems into smaller steps\\n- Test incrementally\\n- Build reusable components\\n- Don't be afraid to use paper for planning\\n- Focus on learning rather than completion speed\")])]"
      ]
     },
     "execution_count": 28,
     "metadata": {},
     "output_type": "execute_result"
    }
   ],
   "source": [
    "zipped = L(zip(ts, summaries))\n",
    "zipped\n"
   ]
  },
  {
   "cell_type": "code",
   "execution_count": 32,
   "metadata": {},
   "outputs": [
    {
     "name": "stdout",
     "output_type": "stream",
     "text": [
      "SIWC Lesson 8 Lean Startup, Iteration Speed, and Building Better Tools with Eric Ries\n",
      "SIWC Lesson 9 Building with External AI APIs\n",
      "SIWC - lesson1 Introduction to SolveIT and Dialogue Engineering\n",
      "SIWC Lesson 11 Creating Web Apps with SolveIT and FastHTML\n",
      "SIWC Lesson 10 Building an R&D Company with Values and Vision\n",
      "SIWC Lesson 12 Building a Blog with Fast HTML and Monster UI\n",
      "SIWC Lesson 2 SolveIT Lesson 2: Coding Process, List Comprehensions, and Problem Solving\n",
      "SIWC Lesson 3 SolveIT Lesson 3: Beyond Advent of Code\n",
      "SIWC Lesson 7 Web Scraping and Graph Problem Classification with Claude\n",
      "SIWC Lesson 6 SolveIT Lesson: Building Reusable Code and Problem-Solving Techniques\n",
      "SIWC Lesson 4 Shell Sage Demo and Learning Approaches\n",
      "SIWC Lesson 5 SolveIT Lesson 5: Problem Solving Techniques and Tools\n"
     ]
    }
   ],
   "source": [
    "for t, s in zipped:\n",
    "    print(t.split('/')[-1].replace('.txt', ''), s[0].title)"
   ]
  }
 ],
 "metadata": {
  "kernelspec": {
   "display_name": "venv",
   "language": "python",
   "name": "python3"
  },
  "language_info": {
   "codemirror_mode": {
    "name": "ipython",
    "version": 3
   },
   "file_extension": ".py",
   "mimetype": "text/x-python",
   "name": "python",
   "nbconvert_exporter": "python",
   "pygments_lexer": "ipython3",
   "version": "3.12.3"
  }
 },
 "nbformat": 4,
 "nbformat_minor": 2
}
