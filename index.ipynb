{
 "cells": [
  {
   "cell_type": "code",
   "execution_count": 3,
   "metadata": {},
   "outputs": [
    {
     "data": {
      "text/plain": [
       "True"
      ]
     },
     "execution_count": 3,
     "metadata": {},
     "output_type": "execute_result"
    }
   ],
   "source": [
    "import httpx\n",
    "from fasthtml.common import show\n",
    "from bs4 import BeautifulSoup\n",
    "from fasthtml.common import L, first, last\n",
    "from fastcore.xtras import globtastic\n",
    "from fastcore.parallel import parallel\n",
    "import os\n",
    "from dotenv import load_dotenv\n",
    "load_dotenv()\n"
   ]
  },
  {
   "cell_type": "code",
   "execution_count": 4,
   "metadata": {},
   "outputs": [],
   "source": [
    "# I just copied this from devTools -> dashboard request -> copy as cURL. You will have to replace the session_ cookie with your own.\n",
    "\n",
    "headers = {\n",
    "    'accept': 'text/html,application/xhtml+xml,application/xml;q=0.9,image/avif,image/webp,image/apng,*/*;q=0.8,application/signed-exchange;v=b3;q=0.7',\n",
    "    'accept-language': 'en-US,en;q=0.9,es;q=0.8,ca;q=0.7,zh-TW;q=0.6,zh;q=0.5',\n",
    "    'user-agent': 'Mozilla/5.0 (Macintosh; Intel Mac OS X 10_15_7) AppleWebKit/537.36 (KHTML, like Gecko) Chrome/131.0.0.0 Safari/537.36',\n",
    "    'sec-ch-ua': '\"Google Chrome\";v=\"131\", \"Chromium\";v=\"131\", \"Not_A Brand\";v=\"24\"'\n",
    "}\n",
    "\n",
    "r = httpx.get('https://solveit.fast.ai/dashboard', \n",
    "              headers=headers,\n",
    "              cookies={'session_': os.getenv('SESSION_COOKIE')},\n",
    "              follow_redirects=True)\n"
   ]
  },
  {
   "cell_type": "code",
   "execution_count": 5,
   "metadata": {},
   "outputs": [],
   "source": [
    "soup = BeautifulSoup(r.text, 'html.parser')\n"
   ]
  },
  {
   "cell_type": "code",
   "execution_count": 6,
   "metadata": {},
   "outputs": [
    {
     "data": {
      "text/plain": [
       "(#12) ['https://youtu.be/4x9wtrDOXac','https://youtube.com/live/X_m7qz5LteY?feature=share','https://youtube.com/live/kEGQSamwpuU?feature=share','https://youtube.com/live/HO1gmouGEVI?feature=share','https://youtube.com/live/w_YltetZc3M?feature=share','https://youtube.com/live/83tbt5lEUgI?feature=share','https://youtube.com/live/Dnu39sQCV3k?feature=share','https://youtube.com/live/lA-KvHeFJkI?feature=share','https://youtube.com/live/ObliDyAdRx8?feature=share','https://youtube.com/live/5ZPFC_Xnz8A?feature=share','https://youtube.com/live/AvItkLCD7v8?feature=share','https://youtube.com/live/rr-59PLkIdY?feature=share']"
      ]
     },
     "execution_count": 6,
     "metadata": {},
     "output_type": "execute_result"
    }
   ],
   "source": [
    "links = L(soup.select('ul.uk-list li a[href]')).map(lambda x: x['href']).filter(lambda x:'youtu' in x)\n",
    "links"
   ]
  },
  {
   "cell_type": "markdown",
   "metadata": {},
   "source": [
    "## Download videos\n"
   ]
  },
  {
   "cell_type": "code",
   "execution_count": 7,
   "metadata": {},
   "outputs": [],
   "source": [
    "import yt_dlp\n",
    "\n",
    "def download_video(url, output_path='%(title)s.%(ext)s'):\n",
    "    ydl_opts = {\n",
    "        'format': 'best',  # best quality\n",
    "        'outtmpl': output_path,  # output template\n",
    "        'quiet': False,  # show progress\n",
    "    }\n",
    "    \n",
    "    with yt_dlp.YoutubeDL(ydl_opts) as ydl:\n",
    "        ydl.download([url])\n"
   ]
  },
  {
   "cell_type": "code",
   "execution_count": 8,
   "metadata": {},
   "outputs": [],
   "source": [
    "\n",
    "# Download a single video\n",
    "# download_video('https://youtu.be/4x9wtrDOXac')\n"
   ]
  },
  {
   "cell_type": "code",
   "execution_count": 9,
   "metadata": {},
   "outputs": [],
   "source": [
    "def download_audio(url, output_path='./audio/%(title)s.%(ext)s'):\n",
    "    ydl_opts = {\n",
    "        'format': 'bestaudio/best',\n",
    "        'postprocessors': [{\n",
    "            'key': 'FFmpegExtractAudio',\n",
    "            'preferredcodec': 'mp3',\n",
    "            'preferredquality': '192',\n",
    "        }],\n",
    "        'outtmpl': output_path,\n",
    "        'quiet': False,\n",
    "    }\n",
    "    \n",
    "    with yt_dlp.YoutubeDL(ydl_opts) as ydl:\n",
    "        ydl.download([url])\n"
   ]
  },
  {
   "cell_type": "code",
   "execution_count": 10,
   "metadata": {},
   "outputs": [],
   "source": [
    "# download_audio('https://youtu.be/4x9wtrDOXac')\n"
   ]
  },
  {
   "cell_type": "code",
   "execution_count": 11,
   "metadata": {},
   "outputs": [],
   "source": [
    "from fastcore.parallel import parallel\n",
    "\n",
    "# parallel(download_audio, links)"
   ]
  },
  {
   "cell_type": "markdown",
   "metadata": {},
   "source": [
    "## Diarize audio\n",
    "\n",
    "\n",
    "Unfortunately, HTTP GET method has a payload size limit, so providing the file direclty is not possible. It's possible to work around uploading it somewhere which is publicly accessible and then use a URL. Instead, we'll manually use macWhisper for now.\n",
    "\n",
    "[See issue](https://github.com/replicate/replicate-python/issues/157)"
   ]
  },
  {
   "cell_type": "code",
   "execution_count": 12,
   "metadata": {},
   "outputs": [
    {
     "ename": "ReplicateError",
     "evalue": "ReplicateError Details:\nstatus: 413",
     "output_type": "error",
     "traceback": [
      "\u001b[0;31m---------------------------------------------------------------------------\u001b[0m",
      "\u001b[0;31mReplicateError\u001b[0m                            Traceback (most recent call last)",
      "Cell \u001b[0;32mIn[12], line 18\u001b[0m\n\u001b[1;32m     15\u001b[0m     \u001b[38;5;28;01mreturn\u001b[39;00m output\n\u001b[1;32m     17\u001b[0m \u001b[38;5;66;03m# Run diarization\u001b[39;00m\n\u001b[0;32m---> 18\u001b[0m result \u001b[38;5;241m=\u001b[39m \u001b[43mdiarize_with_replicate\u001b[49m\u001b[43m(\u001b[49m\n\u001b[1;32m     19\u001b[0m \u001b[43m    \u001b[49m\u001b[38;5;124;43m\"\u001b[39;49m\u001b[38;5;124;43m./audio/SIWC - lesson1.mp3\u001b[39;49m\u001b[38;5;124;43m\"\u001b[39;49m\u001b[43m,\u001b[49m\u001b[43m \u001b[49m\n\u001b[1;32m     20\u001b[0m \u001b[43m    \u001b[49m\u001b[43mprompt\u001b[49m\u001b[38;5;241;43m=\u001b[39;49m\u001b[38;5;124;43m\"\u001b[39;49m\u001b[38;5;124;43mSolveIT lesson, coding tutorial\u001b[39;49m\u001b[38;5;124;43m\"\u001b[39;49m\u001b[43m,\u001b[49m\n\u001b[1;32m     21\u001b[0m \u001b[43m    \u001b[49m\u001b[43mnum_speakers\u001b[49m\u001b[38;5;241;43m=\u001b[39;49m\u001b[38;5;241;43m2\u001b[39;49m\n\u001b[1;32m     22\u001b[0m \u001b[43m)\u001b[49m\n\u001b[1;32m     23\u001b[0m \u001b[38;5;28mprint\u001b[39m(result)\n",
      "Cell \u001b[0;32mIn[12], line 11\u001b[0m, in \u001b[0;36mdiarize_with_replicate\u001b[0;34m(filepath, num_speakers, language, prompt)\u001b[0m\n\u001b[1;32m      3\u001b[0m \u001b[38;5;28;01mdef\u001b[39;00m\u001b[38;5;250m \u001b[39m\u001b[38;5;21mdiarize_with_replicate\u001b[39m(filepath, num_speakers\u001b[38;5;241m=\u001b[39m\u001b[38;5;241m2\u001b[39m, language\u001b[38;5;241m=\u001b[39m\u001b[38;5;124m\"\u001b[39m\u001b[38;5;124men\u001b[39m\u001b[38;5;124m\"\u001b[39m, prompt\u001b[38;5;241m=\u001b[39m\u001b[38;5;124m\"\u001b[39m\u001b[38;5;124m\"\u001b[39m):\n\u001b[1;32m      4\u001b[0m     \u001b[38;5;28minput\u001b[39m \u001b[38;5;241m=\u001b[39m {\n\u001b[1;32m      5\u001b[0m         \u001b[38;5;124m\"\u001b[39m\u001b[38;5;124mfile\u001b[39m\u001b[38;5;124m\"\u001b[39m: \u001b[38;5;28mopen\u001b[39m(filepath, \u001b[38;5;124m\"\u001b[39m\u001b[38;5;124mrb\u001b[39m\u001b[38;5;124m\"\u001b[39m),\n\u001b[1;32m      6\u001b[0m         \u001b[38;5;124m\"\u001b[39m\u001b[38;5;124mprompt\u001b[39m\u001b[38;5;124m\"\u001b[39m: prompt,\n\u001b[1;32m      7\u001b[0m         \u001b[38;5;124m\"\u001b[39m\u001b[38;5;124mlanguage\u001b[39m\u001b[38;5;124m\"\u001b[39m: language,\n\u001b[1;32m      8\u001b[0m         \u001b[38;5;124m\"\u001b[39m\u001b[38;5;124mnum_speakers\u001b[39m\u001b[38;5;124m\"\u001b[39m: num_speakers\n\u001b[1;32m      9\u001b[0m     }\n\u001b[0;32m---> 11\u001b[0m     output \u001b[38;5;241m=\u001b[39m \u001b[43mreplicate\u001b[49m\u001b[38;5;241;43m.\u001b[39;49m\u001b[43mrun\u001b[49m\u001b[43m(\u001b[49m\n\u001b[1;32m     12\u001b[0m \u001b[43m        \u001b[49m\u001b[38;5;124;43m\"\u001b[39;49m\u001b[38;5;124;43mthomasmol/whisper-diarization:cbd15da9f839c5f932742f86ce7def3a03c22e2b4171d42823e83e314547003f\u001b[39;49m\u001b[38;5;124;43m\"\u001b[39;49m\u001b[43m,\u001b[49m\n\u001b[1;32m     13\u001b[0m \u001b[43m        \u001b[49m\u001b[38;5;28;43minput\u001b[39;49m\u001b[38;5;241;43m=\u001b[39;49m\u001b[38;5;28;43minput\u001b[39;49m\n\u001b[1;32m     14\u001b[0m \u001b[43m    \u001b[49m\u001b[43m)\u001b[49m\n\u001b[1;32m     15\u001b[0m     \u001b[38;5;28;01mreturn\u001b[39;00m output\n",
      "File \u001b[0;32m~/go/github.com/kafkasl/solveit-summaries/venv/lib/python3.12/site-packages/replicate/client.py:175\u001b[0m, in \u001b[0;36mClient.run\u001b[0;34m(self, ref, input, use_file_output, **params)\u001b[0m\n\u001b[1;32m    163\u001b[0m \u001b[38;5;28;01mdef\u001b[39;00m\u001b[38;5;250m \u001b[39m\u001b[38;5;21mrun\u001b[39m(\n\u001b[1;32m    164\u001b[0m     \u001b[38;5;28mself\u001b[39m,\n\u001b[1;32m    165\u001b[0m     ref: \u001b[38;5;28mstr\u001b[39m,\n\u001b[0;32m   (...)\u001b[0m\n\u001b[1;32m    169\u001b[0m     \u001b[38;5;241m*\u001b[39m\u001b[38;5;241m*\u001b[39mparams: Unpack[\u001b[38;5;124m\"\u001b[39m\u001b[38;5;124mPredictions.CreatePredictionParams\u001b[39m\u001b[38;5;124m\"\u001b[39m],\n\u001b[1;32m    170\u001b[0m ) \u001b[38;5;241m-\u001b[39m\u001b[38;5;241m>\u001b[39m Union[Any, Iterator[Any]]:  \u001b[38;5;66;03m# noqa: ANN401\u001b[39;00m\n\u001b[1;32m    171\u001b[0m \u001b[38;5;250m    \u001b[39m\u001b[38;5;124;03m\"\"\"\u001b[39;00m\n\u001b[1;32m    172\u001b[0m \u001b[38;5;124;03m    Run a model and wait for its output.\u001b[39;00m\n\u001b[1;32m    173\u001b[0m \u001b[38;5;124;03m    \"\"\"\u001b[39;00m\n\u001b[0;32m--> 175\u001b[0m     \u001b[38;5;28;01mreturn\u001b[39;00m \u001b[43mrun\u001b[49m\u001b[43m(\u001b[49m\u001b[38;5;28;43mself\u001b[39;49m\u001b[43m,\u001b[49m\u001b[43m \u001b[49m\u001b[43mref\u001b[49m\u001b[43m,\u001b[49m\u001b[43m \u001b[49m\u001b[38;5;28;43minput\u001b[39;49m\u001b[43m,\u001b[49m\u001b[43m \u001b[49m\u001b[43muse_file_output\u001b[49m\u001b[38;5;241;43m=\u001b[39;49m\u001b[43muse_file_output\u001b[49m\u001b[43m,\u001b[49m\u001b[43m \u001b[49m\u001b[38;5;241;43m*\u001b[39;49m\u001b[38;5;241;43m*\u001b[39;49m\u001b[43mparams\u001b[49m\u001b[43m)\u001b[49m\n",
      "File \u001b[0;32m~/go/github.com/kafkasl/solveit-summaries/venv/lib/python3.12/site-packages/replicate/run.py:46\u001b[0m, in \u001b[0;36mrun\u001b[0;34m(client, ref, input, use_file_output, **params)\u001b[0m\n\u001b[1;32m     43\u001b[0m version, owner, name, version_id \u001b[38;5;241m=\u001b[39m identifier\u001b[38;5;241m.\u001b[39m_resolve(ref)\n\u001b[1;32m     45\u001b[0m \u001b[38;5;28;01mif\u001b[39;00m version_id \u001b[38;5;129;01mis\u001b[39;00m \u001b[38;5;129;01mnot\u001b[39;00m \u001b[38;5;28;01mNone\u001b[39;00m:\n\u001b[0;32m---> 46\u001b[0m     prediction \u001b[38;5;241m=\u001b[39m \u001b[43mclient\u001b[49m\u001b[38;5;241;43m.\u001b[39;49m\u001b[43mpredictions\u001b[49m\u001b[38;5;241;43m.\u001b[39;49m\u001b[43mcreate\u001b[49m\u001b[43m(\u001b[49m\n\u001b[1;32m     47\u001b[0m \u001b[43m        \u001b[49m\u001b[43mversion\u001b[49m\u001b[38;5;241;43m=\u001b[39;49m\u001b[43mversion_id\u001b[49m\u001b[43m,\u001b[49m\u001b[43m \u001b[49m\u001b[38;5;28;43minput\u001b[39;49m\u001b[38;5;241;43m=\u001b[39;49m\u001b[38;5;28;43minput\u001b[39;49m\u001b[43m \u001b[49m\u001b[38;5;129;43;01mor\u001b[39;49;00m\u001b[43m \u001b[49m\u001b[43m{\u001b[49m\u001b[43m}\u001b[49m\u001b[43m,\u001b[49m\u001b[43m \u001b[49m\u001b[38;5;241;43m*\u001b[39;49m\u001b[38;5;241;43m*\u001b[39;49m\u001b[43mparams\u001b[49m\n\u001b[1;32m     48\u001b[0m \u001b[43m    \u001b[49m\u001b[43m)\u001b[49m\n\u001b[1;32m     49\u001b[0m \u001b[38;5;28;01melif\u001b[39;00m owner \u001b[38;5;129;01mand\u001b[39;00m name:\n\u001b[1;32m     50\u001b[0m     prediction \u001b[38;5;241m=\u001b[39m client\u001b[38;5;241m.\u001b[39mmodels\u001b[38;5;241m.\u001b[39mpredictions\u001b[38;5;241m.\u001b[39mcreate(\n\u001b[1;32m     51\u001b[0m         model\u001b[38;5;241m=\u001b[39m(owner, name), \u001b[38;5;28minput\u001b[39m\u001b[38;5;241m=\u001b[39m\u001b[38;5;28minput\u001b[39m \u001b[38;5;129;01mor\u001b[39;00m {}, \u001b[38;5;241m*\u001b[39m\u001b[38;5;241m*\u001b[39mparams\n\u001b[1;32m     52\u001b[0m     )\n",
      "File \u001b[0;32m~/go/github.com/kafkasl/solveit-summaries/venv/lib/python3.12/site-packages/replicate/prediction.py:485\u001b[0m, in \u001b[0;36mPredictions.create\u001b[0;34m(self, model, version, deployment, input, *args, **params)\u001b[0m\n\u001b[1;32m    478\u001b[0m     \u001b[38;5;28;01mreturn\u001b[39;00m Deployments(\u001b[38;5;28mself\u001b[39m\u001b[38;5;241m.\u001b[39m_client)\u001b[38;5;241m.\u001b[39mpredictions\u001b[38;5;241m.\u001b[39mcreate(\n\u001b[1;32m    479\u001b[0m         deployment\u001b[38;5;241m=\u001b[39mdeployment,\n\u001b[1;32m    480\u001b[0m         \u001b[38;5;28minput\u001b[39m\u001b[38;5;241m=\u001b[39m\u001b[38;5;28minput\u001b[39m \u001b[38;5;129;01mor\u001b[39;00m {},\n\u001b[1;32m    481\u001b[0m         \u001b[38;5;241m*\u001b[39m\u001b[38;5;241m*\u001b[39mparams,\n\u001b[1;32m    482\u001b[0m     )\n\u001b[1;32m    484\u001b[0m \u001b[38;5;28;01mif\u001b[39;00m \u001b[38;5;28minput\u001b[39m \u001b[38;5;129;01mis\u001b[39;00m \u001b[38;5;129;01mnot\u001b[39;00m \u001b[38;5;28;01mNone\u001b[39;00m:\n\u001b[0;32m--> 485\u001b[0m     \u001b[38;5;28minput\u001b[39m \u001b[38;5;241m=\u001b[39m \u001b[43mencode_json\u001b[49m\u001b[43m(\u001b[49m\n\u001b[1;32m    486\u001b[0m \u001b[43m        \u001b[49m\u001b[38;5;28;43minput\u001b[39;49m\u001b[43m,\u001b[49m\n\u001b[1;32m    487\u001b[0m \u001b[43m        \u001b[49m\u001b[43mclient\u001b[49m\u001b[38;5;241;43m=\u001b[39;49m\u001b[38;5;28;43mself\u001b[39;49m\u001b[38;5;241;43m.\u001b[39;49m\u001b[43m_client\u001b[49m\u001b[43m,\u001b[49m\n\u001b[1;32m    488\u001b[0m \u001b[43m        \u001b[49m\u001b[43mfile_encoding_strategy\u001b[49m\u001b[38;5;241;43m=\u001b[39;49m\u001b[43mfile_encoding_strategy\u001b[49m\u001b[43m,\u001b[49m\n\u001b[1;32m    489\u001b[0m \u001b[43m    \u001b[49m\u001b[43m)\u001b[49m\n\u001b[1;32m    491\u001b[0m body \u001b[38;5;241m=\u001b[39m _create_prediction_body(\n\u001b[1;32m    492\u001b[0m     version,\n\u001b[1;32m    493\u001b[0m     \u001b[38;5;28minput\u001b[39m,\n\u001b[1;32m    494\u001b[0m     \u001b[38;5;241m*\u001b[39m\u001b[38;5;241m*\u001b[39mparams,\n\u001b[1;32m    495\u001b[0m )\n\u001b[1;32m    496\u001b[0m extras \u001b[38;5;241m=\u001b[39m _create_prediction_request_params(wait\u001b[38;5;241m=\u001b[39mwait)\n",
      "File \u001b[0;32m~/go/github.com/kafkasl/solveit-summaries/venv/lib/python3.12/site-packages/replicate/helpers.py:36\u001b[0m, in \u001b[0;36mencode_json\u001b[0;34m(obj, client, file_encoding_strategy)\u001b[0m\n\u001b[1;32m     30\u001b[0m \u001b[38;5;250m\u001b[39m\u001b[38;5;124;03m\"\"\"\u001b[39;00m\n\u001b[1;32m     31\u001b[0m \u001b[38;5;124;03mReturn a JSON-compatible version of the object.\u001b[39;00m\n\u001b[1;32m     32\u001b[0m \u001b[38;5;124;03m\"\"\"\u001b[39;00m\n\u001b[1;32m     34\u001b[0m \u001b[38;5;28;01mif\u001b[39;00m \u001b[38;5;28misinstance\u001b[39m(obj, \u001b[38;5;28mdict\u001b[39m):\n\u001b[1;32m     35\u001b[0m     \u001b[38;5;28;01mreturn\u001b[39;00m {\n\u001b[0;32m---> 36\u001b[0m         key: \u001b[43mencode_json\u001b[49m\u001b[43m(\u001b[49m\u001b[43mvalue\u001b[49m\u001b[43m,\u001b[49m\u001b[43m \u001b[49m\u001b[43mclient\u001b[49m\u001b[43m,\u001b[49m\u001b[43m \u001b[49m\u001b[43mfile_encoding_strategy\u001b[49m\u001b[43m)\u001b[49m\n\u001b[1;32m     37\u001b[0m         \u001b[38;5;28;01mfor\u001b[39;00m key, value \u001b[38;5;129;01min\u001b[39;00m obj\u001b[38;5;241m.\u001b[39mitems()\n\u001b[1;32m     38\u001b[0m     }\n\u001b[1;32m     39\u001b[0m \u001b[38;5;28;01mif\u001b[39;00m \u001b[38;5;28misinstance\u001b[39m(obj, (\u001b[38;5;28mlist\u001b[39m, \u001b[38;5;28mset\u001b[39m, \u001b[38;5;28mfrozenset\u001b[39m, GeneratorType, \u001b[38;5;28mtuple\u001b[39m)):\n\u001b[1;32m     40\u001b[0m     \u001b[38;5;28;01mreturn\u001b[39;00m [encode_json(value, client, file_encoding_strategy) \u001b[38;5;28;01mfor\u001b[39;00m value \u001b[38;5;129;01min\u001b[39;00m obj]\n",
      "File \u001b[0;32m~/go/github.com/kafkasl/solveit-summaries/venv/lib/python3.12/site-packages/replicate/helpers.py:48\u001b[0m, in \u001b[0;36mencode_json\u001b[0;34m(obj, client, file_encoding_strategy)\u001b[0m\n\u001b[1;32m     46\u001b[0m         \u001b[38;5;28;01mreturn\u001b[39;00m base64_encode_file(obj)\n\u001b[1;32m     47\u001b[0m     \u001b[38;5;28;01melse\u001b[39;00m:\n\u001b[0;32m---> 48\u001b[0m         \u001b[38;5;28;01mreturn\u001b[39;00m \u001b[43mclient\u001b[49m\u001b[38;5;241;43m.\u001b[39;49m\u001b[43mfiles\u001b[49m\u001b[38;5;241;43m.\u001b[39;49m\u001b[43mcreate\u001b[49m\u001b[43m(\u001b[49m\u001b[43mobj\u001b[49m\u001b[43m)\u001b[49m\u001b[38;5;241m.\u001b[39murls[\u001b[38;5;124m\"\u001b[39m\u001b[38;5;124mget\u001b[39m\u001b[38;5;124m\"\u001b[39m]\n\u001b[1;32m     49\u001b[0m \u001b[38;5;28;01mif\u001b[39;00m HAS_NUMPY:\n\u001b[1;32m     50\u001b[0m     \u001b[38;5;28;01mif\u001b[39;00m \u001b[38;5;28misinstance\u001b[39m(obj, np\u001b[38;5;241m.\u001b[39minteger):  \u001b[38;5;66;03m# type: ignore\u001b[39;00m\n",
      "File \u001b[0;32m~/go/github.com/kafkasl/solveit-summaries/venv/lib/python3.12/site-packages/replicate/file.py:83\u001b[0m, in \u001b[0;36mFiles.create\u001b[0;34m(self, file, **params)\u001b[0m\n\u001b[1;32m     78\u001b[0m \u001b[38;5;28;01melif\u001b[39;00m \u001b[38;5;129;01mnot\u001b[39;00m \u001b[38;5;28misinstance\u001b[39m(file, (io\u001b[38;5;241m.\u001b[39mIOBase, BinaryIO)):\n\u001b[1;32m     79\u001b[0m     \u001b[38;5;28;01mraise\u001b[39;00m \u001b[38;5;167;01mValueError\u001b[39;00m(\n\u001b[1;32m     80\u001b[0m         \u001b[38;5;124m\"\u001b[39m\u001b[38;5;124mUnsupported file type. Must be a file path or file-like object.\u001b[39m\u001b[38;5;124m\"\u001b[39m\n\u001b[1;32m     81\u001b[0m     )\n\u001b[0;32m---> 83\u001b[0m resp \u001b[38;5;241m=\u001b[39m \u001b[38;5;28;43mself\u001b[39;49m\u001b[38;5;241;43m.\u001b[39;49m\u001b[43m_client\u001b[49m\u001b[38;5;241;43m.\u001b[39;49m\u001b[43m_request\u001b[49m\u001b[43m(\u001b[49m\n\u001b[1;32m     84\u001b[0m \u001b[43m    \u001b[49m\u001b[38;5;124;43m\"\u001b[39;49m\u001b[38;5;124;43mPOST\u001b[39;49m\u001b[38;5;124;43m\"\u001b[39;49m\u001b[43m,\u001b[49m\u001b[43m \u001b[49m\u001b[38;5;124;43m\"\u001b[39;49m\u001b[38;5;124;43m/v1/files\u001b[39;49m\u001b[38;5;124;43m\"\u001b[39;49m\u001b[43m,\u001b[49m\u001b[43m \u001b[49m\u001b[43mtimeout\u001b[49m\u001b[38;5;241;43m=\u001b[39;49m\u001b[38;5;28;43;01mNone\u001b[39;49;00m\u001b[43m,\u001b[49m\u001b[43m \u001b[49m\u001b[38;5;241;43m*\u001b[39;49m\u001b[38;5;241;43m*\u001b[39;49m\u001b[43m_create_file_params\u001b[49m\u001b[43m(\u001b[49m\u001b[43mfile\u001b[49m\u001b[43m,\u001b[49m\u001b[43m \u001b[49m\u001b[38;5;241;43m*\u001b[39;49m\u001b[38;5;241;43m*\u001b[39;49m\u001b[43mparams\u001b[49m\u001b[43m)\u001b[49m\n\u001b[1;32m     85\u001b[0m \u001b[43m\u001b[49m\u001b[43m)\u001b[49m\n\u001b[1;32m     87\u001b[0m \u001b[38;5;28;01mreturn\u001b[39;00m _json_to_file(resp\u001b[38;5;241m.\u001b[39mjson())\n",
      "File \u001b[0;32m~/go/github.com/kafkasl/solveit-summaries/venv/lib/python3.12/site-packages/replicate/client.py:89\u001b[0m, in \u001b[0;36mClient._request\u001b[0;34m(self, method, path, **kwargs)\u001b[0m\n\u001b[1;32m     87\u001b[0m \u001b[38;5;28;01mdef\u001b[39;00m\u001b[38;5;250m \u001b[39m\u001b[38;5;21m_request\u001b[39m(\u001b[38;5;28mself\u001b[39m, method: \u001b[38;5;28mstr\u001b[39m, path: \u001b[38;5;28mstr\u001b[39m, \u001b[38;5;241m*\u001b[39m\u001b[38;5;241m*\u001b[39mkwargs) \u001b[38;5;241m-\u001b[39m\u001b[38;5;241m>\u001b[39m httpx\u001b[38;5;241m.\u001b[39mResponse:\n\u001b[1;32m     88\u001b[0m     resp \u001b[38;5;241m=\u001b[39m \u001b[38;5;28mself\u001b[39m\u001b[38;5;241m.\u001b[39m_client\u001b[38;5;241m.\u001b[39mrequest(method, path, \u001b[38;5;241m*\u001b[39m\u001b[38;5;241m*\u001b[39mkwargs)\n\u001b[0;32m---> 89\u001b[0m     \u001b[43m_raise_for_status\u001b[49m\u001b[43m(\u001b[49m\u001b[43mresp\u001b[49m\u001b[43m)\u001b[49m\n\u001b[1;32m     91\u001b[0m     \u001b[38;5;28;01mreturn\u001b[39;00m resp\n",
      "File \u001b[0;32m~/go/github.com/kafkasl/solveit-summaries/venv/lib/python3.12/site-packages/replicate/client.py:393\u001b[0m, in \u001b[0;36m_raise_for_status\u001b[0;34m(resp)\u001b[0m\n\u001b[1;32m    391\u001b[0m \u001b[38;5;28;01mdef\u001b[39;00m\u001b[38;5;250m \u001b[39m\u001b[38;5;21m_raise_for_status\u001b[39m(resp: httpx\u001b[38;5;241m.\u001b[39mResponse) \u001b[38;5;241m-\u001b[39m\u001b[38;5;241m>\u001b[39m \u001b[38;5;28;01mNone\u001b[39;00m:\n\u001b[1;32m    392\u001b[0m     \u001b[38;5;28;01mif\u001b[39;00m \u001b[38;5;241m400\u001b[39m \u001b[38;5;241m<\u001b[39m\u001b[38;5;241m=\u001b[39m resp\u001b[38;5;241m.\u001b[39mstatus_code \u001b[38;5;241m<\u001b[39m \u001b[38;5;241m600\u001b[39m:\n\u001b[0;32m--> 393\u001b[0m         \u001b[38;5;28;01mraise\u001b[39;00m ReplicateError\u001b[38;5;241m.\u001b[39mfrom_response(resp)\n",
      "\u001b[0;31mReplicateError\u001b[0m: ReplicateError Details:\nstatus: 413"
     ]
    }
   ],
   "source": [
    "import replicate\n",
    "\n",
    "def diarize_with_replicate(filepath, num_speakers=2, language=\"en\", prompt=\"\"):\n",
    "    input = {\n",
    "        \"file\": open(filepath, \"rb\"),\n",
    "        \"prompt\": prompt,\n",
    "        \"language\": language,\n",
    "        \"num_speakers\": num_speakers\n",
    "    }\n",
    "    \n",
    "    output = replicate.run(\n",
    "        \"thomasmol/whisper-diarization:cbd15da9f839c5f932742f86ce7def3a03c22e2b4171d42823e83e314547003f\",\n",
    "        input=input\n",
    "    )\n",
    "    return output\n",
    "\n",
    "# Run diarization\n",
    "# result = diarize_with_replicate(\n",
    "#     \"./audio/SIWC - lesson1.mp3\", \n",
    "#     prompt=\"SolveIT lesson, coding tutorial\",\n",
    "#     num_speakers=2\n",
    "# )\n",
    "# print(result)"
   ]
  },
  {
   "cell_type": "code",
   "execution_count": 12,
   "metadata": {},
   "outputs": [],
   "source": [
    "# this will also fail as it uses Replicate behind the scenes\n",
    "import httpx\n",
    "\n",
    "def diarize_audio(filepath, instruction=\"I want to diarize this audio file of a SolveIT lesson in English with Jeremy Howard and Johnathan Whitaker speaking.\"):\n",
    "    url = \"https://web-production-1ac0.up.railway.app/diarize/chat\"\n",
    "    headers = {\n",
    "        \"accept\": \"application/json\",\n",
    "        \"Authorization\": f\"Bearer {TOKEN}\"\n",
    "    }\n",
    "    \n",
    "    files = {\n",
    "        \"file\": (\"audio.mp3\", open(filepath, \"rb\")),\n",
    "        \"instruction\": (None, instruction)\n",
    "    }\n",
    "    \n",
    "    r = httpx.post(url, headers=headers, files=files)\n",
    "    return r.json()\n",
    "\n",
    "# Assuming the first downloaded file is named by its title\n",
    "# Get the first downloaded file path\n",
    "# first_file = \"SIWC - lesson1.mp3\"  # adjust this to your actual filename\n",
    "# result = diarize_audio(first_file)\n",
    "# print(result)"
   ]
  },
  {
   "cell_type": "markdown",
   "metadata": {},
   "source": [
    "## Produce titles"
   ]
  },
  {
   "cell_type": "code",
   "execution_count": 13,
   "metadata": {},
   "outputs": [
    {
     "data": {
      "text/plain": [
       "'Before we kind of have our official start, I just wanted to do a couple of quick logistics things, w'"
      ]
     },
     "execution_count": 13,
     "metadata": {},
     "output_type": "execute_result"
    }
   ],
   "source": [
    "t1 = open('./transcripts/SIWC - lesson1.txt').read()\n",
    "t1[:100]"
   ]
  },
  {
   "cell_type": "code",
   "execution_count": 14,
   "metadata": {},
   "outputs": [
    {
     "data": {
      "text/plain": [
       "'claude-3-5-sonnet-20241022'"
      ]
     },
     "execution_count": 14,
     "metadata": {},
     "output_type": "execute_result"
    }
   ],
   "source": [
    "from claudette import Chat, Client, models\n",
    "model = models[1]\n",
    "model"
   ]
  },
  {
   "cell_type": "code",
   "execution_count": 15,
   "metadata": {},
   "outputs": [
    {
     "data": {
      "text/markdown": [
       "Here's a title and summary for this lesson:\n",
       "\n",
       "Title: \"Introduction to Dialogue Engineering with Python and Advent of Code\"\n",
       "\n",
       "Summary:\n",
       "This first lesson introduces the SolveIT platform and dialogue engineering approach to problem solving with AI and code. The instructors cover:\n",
       "\n",
       "1. Platform logistics and usage:\n",
       "- Overview of SolveIT features and interface\n",
       "- Discord community setup and best practices\n",
       "- Resource quotas and limitations\n",
       "\n",
       "2. Core concepts:\n",
       "- Dialogue engineering as an iterative approach combining code and AI assistance\n",
       "- Exploratory programming methodology\n",
       "- Importance of checking data and documentation at each step\n",
       "\n",
       "3. Practical demonstration:\n",
       "- Solving Advent of Code 2023 Day 1A problem\n",
       "- Breaking down problems into small, testable steps\n",
       "- Using Python basics (strings, lists, loops) with AI assistance\n",
       "- Testing with sample data before scaling to full input\n",
       "\n",
       "4. Best practices:\n",
       "- Writing clear, testable code\n",
       "- Documenting and organizing work in dialogues\n",
       "- Learning from AI suggestions by reading documentation\n",
       "- Maintaining control of the development process\n",
       "\n",
       "The lesson concludes with homework to complete Day 1B and optionally Day 2, encouraging students to practice the demonstrated techniques.\n",
       "\n",
       "<details>\n",
       "\n",
       "- id: `msg_01MjjcLB9KqoK7C1NCPAWCrx`\n",
       "- content: `[{'citations': None, 'text': 'Here\\'s a title and summary for this lesson:\\n\\nTitle: \"Introduction to Dialogue Engineering with Python and Advent of Code\"\\n\\nSummary:\\nThis first lesson introduces the SolveIT platform and dialogue engineering approach to problem solving with AI and code. The instructors cover:\\n\\n1. Platform logistics and usage:\\n- Overview of SolveIT features and interface\\n- Discord community setup and best practices\\n- Resource quotas and limitations\\n\\n2. Core concepts:\\n- Dialogue engineering as an iterative approach combining code and AI assistance\\n- Exploratory programming methodology\\n- Importance of checking data and documentation at each step\\n\\n3. Practical demonstration:\\n- Solving Advent of Code 2023 Day 1A problem\\n- Breaking down problems into small, testable steps\\n- Using Python basics (strings, lists, loops) with AI assistance\\n- Testing with sample data before scaling to full input\\n\\n4. Best practices:\\n- Writing clear, testable code\\n- Documenting and organizing work in dialogues\\n- Learning from AI suggestions by reading documentation\\n- Maintaining control of the development process\\n\\nThe lesson concludes with homework to complete Day 1B and optionally Day 2, encouraging students to practice the demonstrated techniques.', 'type': 'text'}]`\n",
       "- model: `claude-3-5-sonnet-20241022`\n",
       "- role: `assistant`\n",
       "- stop_reason: `end_turn`\n",
       "- stop_sequence: `None`\n",
       "- type: `message`\n",
       "- usage: `{'cache_creation_input_tokens': 0, 'cache_read_input_tokens': 0, 'input_tokens': 19032, 'output_tokens': 267}`\n",
       "\n",
       "</details>"
      ],
      "text/plain": [
       "Message(id='msg_01MjjcLB9KqoK7C1NCPAWCrx', content=[TextBlock(citations=None, text='Here\\'s a title and summary for this lesson:\\n\\nTitle: \"Introduction to Dialogue Engineering with Python and Advent of Code\"\\n\\nSummary:\\nThis first lesson introduces the SolveIT platform and dialogue engineering approach to problem solving with AI and code. The instructors cover:\\n\\n1. Platform logistics and usage:\\n- Overview of SolveIT features and interface\\n- Discord community setup and best practices\\n- Resource quotas and limitations\\n\\n2. Core concepts:\\n- Dialogue engineering as an iterative approach combining code and AI assistance\\n- Exploratory programming methodology\\n- Importance of checking data and documentation at each step\\n\\n3. Practical demonstration:\\n- Solving Advent of Code 2023 Day 1A problem\\n- Breaking down problems into small, testable steps\\n- Using Python basics (strings, lists, loops) with AI assistance\\n- Testing with sample data before scaling to full input\\n\\n4. Best practices:\\n- Writing clear, testable code\\n- Documenting and organizing work in dialogues\\n- Learning from AI suggestions by reading documentation\\n- Maintaining control of the development process\\n\\nThe lesson concludes with homework to complete Day 1B and optionally Day 2, encouraging students to practice the demonstrated techniques.', type='text')], model='claude-3-5-sonnet-20241022', role='assistant', stop_reason='end_turn', stop_sequence=None, type='message', usage=In: 19032; Out: 267; Cache create: 0; Cache read: 0; Total: 19299)"
      ]
     },
     "execution_count": 15,
     "metadata": {},
     "output_type": "execute_result"
    }
   ],
   "source": [
    "chat = Chat(model, sp=\"You are a helpful assistant that produces titles, and summaries for SolveIT lessons.\")\n",
    "chat(t1)"
   ]
  },
  {
   "cell_type": "code",
   "execution_count": 16,
   "metadata": {},
   "outputs": [
    {
     "data": {
      "text/plain": [
       "[Summary(title='SolveIT Platform Introduction and First Coding Problem', summary='This lesson introduces the SolveIT platform and walks through solving the first Advent of Code 2023 problem. Key points covered:\\n\\n1. Platform logistics and usage guidelines:\\n- 2GB disk quota limit\\n- Being mindful of CPU usage\\n- Discord navigation and organization tips\\n\\n2. Introduction to SolveIT platform features:\\n- Code, notes, and AI assistance integration\\n- Variable tracking and autocompletion\\n- Dialogue-based problem solving approach\\n\\n3. Practical coding demonstration:\\n- Solving Advent of Code Day 1 Part A\\n- Step-by-step problem breakdown\\n- Using Python basics with string manipulation\\n- Testing and iterative development approach\\n\\n4. Teaching methodology:\\n- Dialogue engineering concept\\n- Importance of checking documentation\\n- Breaking problems into small testable steps', youtube_description='Learn about the new SolveIT platform and follow along as Jeremy Howard and Jono Lange demonstrate solving the first Advent of Code 2023 problem. This lesson covers platform features, coding best practices, and introduces dialogue engineering as an approach to problem solving with AI assistance.')]"
      ]
     },
     "execution_count": 16,
     "metadata": {},
     "output_type": "execute_result"
    }
   ],
   "source": [
    "from fastcore.basics import BasicRepr\n",
    "class Summary(BasicRepr):\n",
    "    \"Information about a SolveIT lesson\"\n",
    "    def __init__(self, \n",
    "                title:str, # title of the lesson\n",
    "                summary:str, # summary of the lesson\n",
    "                youtube_description:str, # youtube description of the lesson\n",
    "                ):\n",
    "        self.title = title\n",
    "        self.summary = summary\n",
    "        self.youtube_description = youtube_description\n",
    "\n",
    "cli = Client(model)\n",
    "s = cli.structured(f\"You are a helpful assistant that produces titles, and summaries for SolveIT lessons. Provide information from the following SolveIT lesson transcript. {t1}\", Summary)\n",
    "s\n"
   ]
  },
  {
   "cell_type": "code",
   "execution_count": 21,
   "metadata": {},
   "outputs": [],
   "source": [
    "def summarize_lesson(filepath):\n",
    "    t = open(filepath).read()\n",
    "    cli = Client(model)\n",
    "    return filepath, cli.structured(f\"You are a helpful assistant that produces titles, and summaries for SolveIT lessons. Provide information from the following SolveIT lesson transcript. {t}\", Summary)\n"
   ]
  },
  {
   "cell_type": "code",
   "execution_count": 22,
   "metadata": {},
   "outputs": [
    {
     "data": {
      "text/plain": [
       "(#12) ['transcripts/SIWC Lesson 8.txt','transcripts/SIWC Lesson 9.txt','transcripts/SIWC - lesson1.txt','transcripts/SIWC Lesson 11.txt','transcripts/SIWC Lesson 10.txt','transcripts/SIWC Lesson 12.txt','transcripts/SIWC Lesson 2.txt','transcripts/SIWC Lesson 3.txt','transcripts/SIWC Lesson 7.txt','transcripts/SIWC Lesson 6.txt','transcripts/SIWC Lesson 4.txt','transcripts/SIWC Lesson 5.txt']"
      ]
     },
     "execution_count": 22,
     "metadata": {},
     "output_type": "execute_result"
    }
   ],
   "source": [
    "# let's get all the transcripts\n",
    "ts = globtastic('./transcripts', file_glob='*.txt')\n",
    "ts\n"
   ]
  },
  {
   "cell_type": "code",
   "execution_count": 19,
   "metadata": {},
   "outputs": [],
   "source": [
    "# I had some error running in parallel not sure why\n",
    "# summaries = parallel(summarize_lesson, ts)"
   ]
  },
  {
   "cell_type": "code",
   "execution_count": 20,
   "metadata": {},
   "outputs": [
    {
     "data": {
      "text/plain": [
       "(#12) [('transcripts/SIWC Lesson 8.txt', [Summary(title='Lean Startup, Iteration, and Building Better Tools with Eric Ries', summary=\"Eric Ries, co-founder of Ansarai and author of The Lean Startup, discusses the importance of rapid iteration, feedback loops, and building tools that enable faster learning cycles. He shares insights from his experience developing the Lean Startup methodology and how similar principles apply to software development and AI tools. Key themes include the value of small batch sizes, the importance of clearly defined expectations and hypotheses, and creating environments that enable serendipitous innovation. Eric also provides feedback on SolveIT's approach and new features like ghost text completion.\", youtube_description=\"Join Eric Ries, co-founder of Ansarai and author of The Lean Startup, for an insightful discussion about:\\n\\n- The principles behind Lean Startup methodology and rapid iteration\\n- Why small batch sizes and quick feedback loops are crucial for innovation\\n- How to measure success when building new products and tools\\n- The importance of being your own customer when developing software\\n- Demo and discussion of SolveIT's new ghost text completion feature\\n- Creating environments that enable serendipitous innovation\\n\\nEric shares stories from his entrepreneurial journey and explains why having rigid plans can sometimes hinder progress more than help it. A fascinating look at modern software development, AI tools, and building better systems for learning and iteration.\")]),('transcripts/SIWC Lesson 9.txt', [Summary(title='Building with AI APIs: Embeddings, Image Generation and More', summary=\"This lesson explores how to leverage various AI APIs to build interesting applications without needing to run your own infrastructure. Key topics covered include:\\n\\n1. Using Google's text embedding model to create a simple semantic search system over Wikipedia articles\\n2. Working with image generation APIs like Replicate's SDXL to create AI art\\n3. Chaining together multiple AI services (LLMs, image generation, text-to-speech) to create more complex applications\\n4. Discussion of different API providers and their tradeoffs in terms of speed, cost and capabilities\\n\\nThe lesson emphasizes how modern AI development often involves combining existing API services rather than training models from scratch. It demonstrates practical techniques for rapid prototyping and experimentation with these services.\", youtube_description=\"Learn how to build applications using AI APIs without needing GPUs or complex infrastructure. This lesson covers:\\n- Text embeddings and semantic search with Google's embedding model\\n- Image generation with Replicate's SDXL\\n- Chaining multiple AI services together\\n- Comparing different API providers\\n\\nJoin Jeremy Howard and Jono Muller as they demonstrate practical techniques for working with modern AI services.\")]),('transcripts/SIWC - lesson1.txt', [Summary(title='SolveIT Platform Introduction and First Coding Problem', summary='This lesson introduces the SolveIT platform and walks through solving the first Advent of Code 2023 problem. Key points covered:\\n\\n1. Platform logistics and usage guidelines:\\n- 2GB disk quota limit\\n- Being mindful of CPU usage\\n- Discord navigation and organization tips\\n\\n2. Introduction to SolveIT platform features:\\n- Code, notes, and AI assistance integration\\n- Variable tracking and autocompletion\\n- Dialogue-based problem solving approach\\n\\n3. Practical coding demonstration:\\n- Solving Advent of Code Day 1 Part A\\n- Step-by-step problem breakdown\\n- Using Python basics with string manipulation\\n- Testing and iterative development approach\\n\\n4. Teaching methodology:\\n- Dialogue engineering concept\\n- Importance of checking documentation\\n- Breaking problems into small testable steps', youtube_description='Learn about the new SolveIT platform and follow along as Jeremy Howard and Jono Lange demonstrate solving the first Advent of Code 2023 problem. This lesson covers platform features, coding best practices, and introduces dialogue engineering as an approach to problem solving with AI assistance.')]),('transcripts/SIWC Lesson 11.txt', [Summary(title='Creating Web Apps with SolveIT and FastHTML', summary='This lesson demonstrates how to create web applications using SolveIT and FastHTML, featuring a practical example of building a blog. The lesson covers:\\n\\n1. Using AI tools (ChatGPT, Claude) to generate initial web pages\\n2. Working with FastHTML and Monster UI components\\n3. Creating interactive web applications piece by piece\\n4. Converting markdown blog posts into styled web content\\n5. Setting up a local development environment\\n6. The advantages of using FastHTML over traditional web frameworks\\n\\nThe lesson emphasizes an iterative approach to web development, combining AI assistance with direct coding, and showcases how FastHTML simplifies web development compared to traditional frameworks.', youtube_description='Learn how to create web applications using SolveIT and FastHTML in this comprehensive lesson. Starting with a fun example of creating a Sasquatch life coach landing page, the lesson demonstrates various approaches to web development - from using AI tools to writing code directly. Key topics include working with FastHTML components, Monster UI styling, markdown conversion, and setting up a local development environment. Perfect for both beginners and experienced developers looking to streamline their web development process.')]),('transcripts/SIWC Lesson 10.txt', [Summary(title='Building an R&D Company with Eric Ries', summary='A discussion between Jeremy Howard and Eric Ries about building Answer AI as an R&D company focused on beneficial AI development. Key topics include:\\n\\n- The importance of having a clear vision and values while maintaining flexibility to learn and adapt\\n- Why Answer AI chose to be a Public Benefit Corporation and limit headcount to 10-12 people\\n- The role of metrics and measurement in startups, and how the appropriate tools depend on context\\n- Building products and companies with internal coherence derived from first principles\\n- Creating and nurturing communities around new technologies\\n- The value of trustworthiness as a strategic asset', youtube_description='Eric Ries joins Jeremy Howard to discuss building Answer AI as an R&D company focused on beneficial AI development. They explore topics including company vision and values, being a Public Benefit Corporation, appropriate use of metrics, product development, and building communities. The conversation provides insights into creating coherent organizations derived from first principles rather than following conventional approaches.')]),('transcripts/SIWC Lesson 12.txt', [Summary(title='Building a Blog with Fast HTML and Monster UI', summary=\"In this lesson, the instructors demonstrate how to build a blog interface using Fast HTML and Monster UI components. They show how to create blog post cards with titles, images, descriptions, dates, authors and category tags in a grid layout. The lesson covers working with HTML components, styling with Monster UI classes, handling missing data gracefully, and setting up basic routing and interactivity. The instructors emphasize a step-by-step, bottom-up approach to building web interfaces using Solvert's interactive environment before moving the code to VS Code.\", youtube_description=\"Learn how to build a dynamic blog interface using Fast HTML and Monster UI components. Key topics covered:\\n\\n- Creating reusable blog post card components\\n- Working with HTML tags and Monster UI styling classes  \\n- Handling images, text truncation and missing data\\n- Setting up grid layouts and responsive design\\n- Basic routing and page navigation\\n- Adding interactivity with HTMX\\n- Development workflow between Solvert and VS Code\\n\\nThe lesson demonstrates a step-by-step approach to building web interfaces, with immediate visual feedback in Solvert's interactive environment.\")]),('transcripts/SIWC Lesson 2.txt', [Summary(title='SolveIT Lesson 2: Advent of Code and Programming Best Practices', summary='This lesson covered several key topics:\\n\\n1. Logistics updates about Discord notifications and volume quotas\\n2. Introduction of pair programming practice sessions\\n3. Detailed walkthrough of solving Advent of Code Day 1 Part B\\n4. Discussion of programming best practices including:\\n   - Taking small steps and testing each step\\n   - Using list comprehensions effectively\\n   - Debugging strategies\\n   - Code organization and documentation\\n5. Tips for using the SolveIT environment and sharing solutions\\n\\nThe lesson emphasized the importance of showing your work process rather than just the final solution, and demonstrated live coding techniques for solving programming problems step-by-step.', youtube_description='In this second lesson of SolveIT, Jeremy Howard and Jono Lange demonstrate problem-solving techniques using Advent of Code challenges. The lesson covers Python programming concepts like list comprehensions, debugging strategies, and best practices for incremental development. Key focus is placed on showing work process and using the SolveIT environment effectively.')]),('transcripts/SIWC Lesson 3.txt', [Summary(title='SolveIT Lesson 3: Platform Updates, Non-Advent Problems, and Day 2', summary='This lesson covered platform updates, showcased community examples, and demonstrated applying the SolveIT methodology to non-Advent of Code problems. The instructors covered LLM evaluations, data wrangling in Google Colab, and worked through Advent of Code Day 2. The lesson concluded with a speed run demonstration of a previous problem solution.', youtube_description='Key topics covered:\\n- Platform updates and troubleshooting tips\\n- Community dialogue examples and learning approaches\\n- LLM evaluation methodology demonstration\\n- Data wrangling example using Google Colab\\n- Advent of Code Day 2 solution walkthrough\\n- Speed run demonstration of previous problem\\n- Discussion of course direction and future topics')]),('transcripts/SIWC Lesson 7.txt', [Summary(title='Web Scraping and Graph Problem Classification with Claude', summary='In this lesson, Jeremy Howard and Johnno demonstrate how to use web scraping and language models to analyze Advent of Code 2024 problems and identify which ones could benefit from graph-based solutions. They cover:\\n\\n1. Web scraping techniques using Beautiful Soup and CSS selectors\\n2. Working with the Claude API through the Claude-at library\\n3. Using structured output to get consistent responses from language models\\n4. Parallel processing of multiple problems\\n5. Best practices for exploring new libraries and documentation\\n\\nThe lesson emphasizes an incremental, test-as-you-go approach while building practical tools.', youtube_description='Learn how to combine web scraping and AI to analyze coding problems. This lesson covers:\\n- Web scraping with Beautiful Soup\\n- Working with CSS selectors\\n- Using Claude API for structured analysis\\n- Parallel processing techniques\\n- Best practices for learning new libraries\\n\\nKey tools and concepts:\\n- Beautiful Soup library\\n- CSS selectors\\n- Claude-at library\\n- Structured output\\n- Parallel processing')]),('transcripts/SIWC Lesson 6.txt', [Summary(title='Building Reusable Code and Tools with NB Dev', summary='This lesson covered several key topics around building reusable code and tools:\\n\\n1. Creating reusable modules in SolveIT by exporting code from dialogues\\n2. Building a backup tool using NB Dev for incremental development and testing\\n3. Problem solving techniques demonstrated through Advent of Code Day 12 solution:\\n- Using visualizations and diagrams\\n- Breaking problems into smaller pieces\\n- Testing with simple examples\\n- Leveraging existing tools like scipy.ndimage.label\\n\\n4. Code organization and tools:\\n- Using classes for state management and organization\\n- The zip function for working with multiple lists\\n- Regular expressions for parsing\\n- FastCore utilities like @patch and store_attr\\n\\nThe lesson emphasized iterative development, testing, and creating shareable artifacts from problem-solving processes.', youtube_description='Learn how to build reusable code and tools using NB Dev, demonstrated through creating a backup system and solving Advent of Code problems. Topics include:\\n\\n- Creating reusable modules in SolveIT\\n- Iterative development with NB Dev \\n- Problem solving techniques and visualization\\n- Code organization with classes and utilities\\n- Working with zip, regex, and FastCore tools\\n\\nKey themes: exploratory programming, testing, and creating shareable artifacts.')]),('transcripts/SIWC Lesson 4.txt', [Summary(title='Shell Sage and Learning Strategies with SolveIT', summary='This lesson covered two main topics:\\n\\n1. Shell Sage - A new AI terminal assistant:\\n- Created by Nate to provide AI assistance directly in the terminal\\n- Uses Tmux to maintain context awareness\\n- Helps with system administration tasks like finding large files\\n- Currently requires Anthropic API key but will support other LLM providers\\n- Open source and welcomes contributions\\n\\n2. Learning Strategies:\\n- Demonstrated effective learning approaches using SolveIT\\n- Showed how to break down complex topics into smaller pieces\\n- Used Python decorators as an example\\n- Emphasized importance of testing and verifying understanding at each step\\n- Discussed using Claude projects and context for documentation', youtube_description='Learn about Shell Sage, a new AI terminal assistant that provides context-aware help directly in your terminal. See how to effectively learn new programming concepts by breaking them down into manageable pieces and testing understanding at each step. Includes discussion of Python decorators, Claude projects, and documentation strategies.')]),('transcripts/SIWC Lesson 5.txt', [Summary(title='Solving Problems with Sets and Regular Expressions', summary='This lesson covered several key topics around problem solving:\\n\\n1. Using regular expressions with the regex library to parse structured text data, building patterns incrementally and using captures\\n2. Working with sets in Python for finding intersections and unions of collections\\n3. Solving Advent of Code Day 4 Part A using these techniques\\n4. Discussion of recursion concepts through file system traversal examples\\n5. Tips for maintaining momentum with challenging problems like Advent of Code\\n\\nThe lesson emphasized the importance of breaking down problems into small steps, testing incrementally, and building reusable components that can help solve future problems more easily.', youtube_description='Learn problem solving techniques using Python sets and regular expressions:\\n- Using the regex library for parsing structured text\\n- Working with Python sets for collection operations  \\n- Solving Advent of Code problems step by step\\n- File system traversal and recursion concepts\\n- Tips for tackling challenging programming problems\\n\\nThe lesson demonstrates how breaking down complex problems and building reusable components leads to more maintainable solutions.')])]"
      ]
     },
     "execution_count": 20,
     "metadata": {},
     "output_type": "execute_result"
    }
   ],
   "source": [
    "summaries = ts.map(summarize_lesson)\n",
    "summaries"
   ]
  },
  {
   "cell_type": "code",
   "execution_count": 23,
   "metadata": {},
   "outputs": [],
   "source": [
    "import json\n",
    "import yaml\n",
    "from pathlib import Path\n",
    "\n",
    "# Convert summaries to a more serializable format\n",
    "def process_summaries(summaries):\n",
    "    result = {}\n",
    "    for filepath, summary_list in summaries:\n",
    "        # Get just the filename without path and extension\n",
    "        name = Path(filepath).stem\n",
    "        # Take first summary from list (since they're all length 1)\n",
    "        summary = summary_list[0]\n",
    "        result[name] = {\n",
    "            'title': summary.title,\n",
    "            'summary': summary.summary,\n",
    "            'youtube_description': summary.youtube_description\n",
    "        }\n",
    "    return result\n",
    "\n",
    "processed = process_summaries(summaries)\n",
    "\n",
    "# Export to YAML\n",
    "with open('summaries.yaml', 'w') as f:\n",
    "    yaml.dump(processed, f, sort_keys=False, allow_unicode=True)"
   ]
  },
  {
   "cell_type": "code",
   "execution_count": null,
   "metadata": {},
   "outputs": [],
   "source": []
  }
 ],
 "metadata": {
  "kernelspec": {
   "display_name": "venv",
   "language": "python",
   "name": "python3"
  },
  "language_info": {
   "codemirror_mode": {
    "name": "ipython",
    "version": 3
   },
   "file_extension": ".py",
   "mimetype": "text/x-python",
   "name": "python",
   "nbconvert_exporter": "python",
   "pygments_lexer": "ipython3",
   "version": "3.12.3"
  }
 },
 "nbformat": 4,
 "nbformat_minor": 2
}
